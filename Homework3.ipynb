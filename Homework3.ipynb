{
  "nbformat": 4,
  "nbformat_minor": 0,
  "metadata": {
    "colab": {
      "provenance": [],
      "gpuType": "T4"
    },
    "kernelspec": {
      "name": "python3",
      "display_name": "Python 3"
    },
    "language_info": {
      "name": "python"
    },
    "accelerator": "GPU"
  },
  "cells": [
    {
      "cell_type": "markdown",
      "source": [
        "# Homework 3"
      ],
      "metadata": {
        "id": "Cp4UorUOQoI0"
      }
    },
    {
      "cell_type": "markdown",
      "source": [
        "In this assignment, you will create a custom object detection model using PyTorch or Keras.\n",
        "\n",
        "**Dataset Prep and Preprocessing (20 points):** Collect or create a dataset of images containing the objects you want to detect annotated with bounding boxes. Implement data preprocessing techniques, including resizing images and normalizing pixels.\n",
        "\n",
        "[Hint. Roboflow has pre-annotated datasets available for download.]\n",
        "\n",
        "**Model Architecture (30 points):** Train a YOLOv8 model on you selected dataset using the public repository at https://github.com/ultralytics/ultralyticsLinks to an external site.. Monitor training progress and use appropriate techniques to prevent overfitting. (Do at least 3 tuning experiments)\n",
        "\n",
        "**Evaluation (20 points):** Evaluate your trained model's performance on a test dataset using mAP. Visualize the model's predictions on sample images. Analyze the model's performance, discussing any specific failure modes on your test dataset.\n",
        "\n",
        "**BONUS (25 bonus points):** Design and train a custom CNN-based object detection model using a self-designed architecture or do a comparison of several publicly available models on the same dataset."
      ],
      "metadata": {
        "id": "Nir3AR7JQs4g"
      }
    },
    {
      "cell_type": "markdown",
      "source": [
        "## Dataset Prep and Preprocessing"
      ],
      "metadata": {
        "id": "rF-I8ioiQwRM"
      }
    },
    {
      "cell_type": "code",
      "source": [
        "!pip install ultralytics"
      ],
      "metadata": {
        "colab": {
          "base_uri": "https://localhost:8080/"
        },
        "id": "LZx7Q1OJP8kD",
        "outputId": "18d6da6b-03ea-400c-8ef4-523b59025d26"
      },
      "execution_count": null,
      "outputs": [
        {
          "output_type": "stream",
          "name": "stdout",
          "text": [
            "Collecting ultralytics\n",
            "  Downloading ultralytics-8.0.222-py3-none-any.whl (653 kB)\n",
            "\u001b[2K     \u001b[90m━━━━━━━━━━━━━━━━━━━━━━━━━━━━━━━━━━━━━━━━\u001b[0m \u001b[32m654.0/654.0 kB\u001b[0m \u001b[31m3.9 MB/s\u001b[0m eta \u001b[36m0:00:00\u001b[0m\n",
            "\u001b[?25hRequirement already satisfied: matplotlib>=3.3.0 in /usr/local/lib/python3.10/dist-packages (from ultralytics) (3.7.1)\n",
            "Requirement already satisfied: numpy>=1.22.2 in /usr/local/lib/python3.10/dist-packages (from ultralytics) (1.23.5)\n",
            "Requirement already satisfied: opencv-python>=4.6.0 in /usr/local/lib/python3.10/dist-packages (from ultralytics) (4.8.0.76)\n",
            "Requirement already satisfied: pillow>=7.1.2 in /usr/local/lib/python3.10/dist-packages (from ultralytics) (9.4.0)\n",
            "Requirement already satisfied: pyyaml>=5.3.1 in /usr/local/lib/python3.10/dist-packages (from ultralytics) (6.0.1)\n",
            "Requirement already satisfied: requests>=2.23.0 in /usr/local/lib/python3.10/dist-packages (from ultralytics) (2.31.0)\n",
            "Requirement already satisfied: scipy>=1.4.1 in /usr/local/lib/python3.10/dist-packages (from ultralytics) (1.11.4)\n",
            "Requirement already satisfied: torch>=1.8.0 in /usr/local/lib/python3.10/dist-packages (from ultralytics) (2.1.0+cu118)\n",
            "Requirement already satisfied: torchvision>=0.9.0 in /usr/local/lib/python3.10/dist-packages (from ultralytics) (0.16.0+cu118)\n",
            "Requirement already satisfied: tqdm>=4.64.0 in /usr/local/lib/python3.10/dist-packages (from ultralytics) (4.66.1)\n",
            "Requirement already satisfied: pandas>=1.1.4 in /usr/local/lib/python3.10/dist-packages (from ultralytics) (1.5.3)\n",
            "Requirement already satisfied: seaborn>=0.11.0 in /usr/local/lib/python3.10/dist-packages (from ultralytics) (0.12.2)\n",
            "Requirement already satisfied: psutil in /usr/local/lib/python3.10/dist-packages (from ultralytics) (5.9.5)\n",
            "Requirement already satisfied: py-cpuinfo in /usr/local/lib/python3.10/dist-packages (from ultralytics) (9.0.0)\n",
            "Collecting thop>=0.1.1 (from ultralytics)\n",
            "  Downloading thop-0.1.1.post2209072238-py3-none-any.whl (15 kB)\n",
            "Requirement already satisfied: contourpy>=1.0.1 in /usr/local/lib/python3.10/dist-packages (from matplotlib>=3.3.0->ultralytics) (1.2.0)\n",
            "Requirement already satisfied: cycler>=0.10 in /usr/local/lib/python3.10/dist-packages (from matplotlib>=3.3.0->ultralytics) (0.12.1)\n",
            "Requirement already satisfied: fonttools>=4.22.0 in /usr/local/lib/python3.10/dist-packages (from matplotlib>=3.3.0->ultralytics) (4.46.0)\n",
            "Requirement already satisfied: kiwisolver>=1.0.1 in /usr/local/lib/python3.10/dist-packages (from matplotlib>=3.3.0->ultralytics) (1.4.5)\n",
            "Requirement already satisfied: packaging>=20.0 in /usr/local/lib/python3.10/dist-packages (from matplotlib>=3.3.0->ultralytics) (23.2)\n",
            "Requirement already satisfied: pyparsing>=2.3.1 in /usr/local/lib/python3.10/dist-packages (from matplotlib>=3.3.0->ultralytics) (3.1.1)\n",
            "Requirement already satisfied: python-dateutil>=2.7 in /usr/local/lib/python3.10/dist-packages (from matplotlib>=3.3.0->ultralytics) (2.8.2)\n",
            "Requirement already satisfied: pytz>=2020.1 in /usr/local/lib/python3.10/dist-packages (from pandas>=1.1.4->ultralytics) (2023.3.post1)\n",
            "Requirement already satisfied: charset-normalizer<4,>=2 in /usr/local/lib/python3.10/dist-packages (from requests>=2.23.0->ultralytics) (3.3.2)\n",
            "Requirement already satisfied: idna<4,>=2.5 in /usr/local/lib/python3.10/dist-packages (from requests>=2.23.0->ultralytics) (3.6)\n",
            "Requirement already satisfied: urllib3<3,>=1.21.1 in /usr/local/lib/python3.10/dist-packages (from requests>=2.23.0->ultralytics) (2.0.7)\n",
            "Requirement already satisfied: certifi>=2017.4.17 in /usr/local/lib/python3.10/dist-packages (from requests>=2.23.0->ultralytics) (2023.11.17)\n",
            "Requirement already satisfied: filelock in /usr/local/lib/python3.10/dist-packages (from torch>=1.8.0->ultralytics) (3.13.1)\n",
            "Requirement already satisfied: typing-extensions in /usr/local/lib/python3.10/dist-packages (from torch>=1.8.0->ultralytics) (4.5.0)\n",
            "Requirement already satisfied: sympy in /usr/local/lib/python3.10/dist-packages (from torch>=1.8.0->ultralytics) (1.12)\n",
            "Requirement already satisfied: networkx in /usr/local/lib/python3.10/dist-packages (from torch>=1.8.0->ultralytics) (3.2.1)\n",
            "Requirement already satisfied: jinja2 in /usr/local/lib/python3.10/dist-packages (from torch>=1.8.0->ultralytics) (3.1.2)\n",
            "Requirement already satisfied: fsspec in /usr/local/lib/python3.10/dist-packages (from torch>=1.8.0->ultralytics) (2023.6.0)\n",
            "Requirement already satisfied: triton==2.1.0 in /usr/local/lib/python3.10/dist-packages (from torch>=1.8.0->ultralytics) (2.1.0)\n",
            "Requirement already satisfied: six>=1.5 in /usr/local/lib/python3.10/dist-packages (from python-dateutil>=2.7->matplotlib>=3.3.0->ultralytics) (1.16.0)\n",
            "Requirement already satisfied: MarkupSafe>=2.0 in /usr/local/lib/python3.10/dist-packages (from jinja2->torch>=1.8.0->ultralytics) (2.1.3)\n",
            "Requirement already satisfied: mpmath>=0.19 in /usr/local/lib/python3.10/dist-packages (from sympy->torch>=1.8.0->ultralytics) (1.3.0)\n",
            "Installing collected packages: thop, ultralytics\n",
            "Successfully installed thop-0.1.1.post2209072238 ultralytics-8.0.222\n"
          ]
        }
      ]
    },
    {
      "cell_type": "code",
      "execution_count": null,
      "metadata": {
        "colab": {
          "base_uri": "https://localhost:8080/"
        },
        "id": "nk0Ddu8WPny8",
        "outputId": "c4041349-4563-4293-d418-051b1c99dcb3"
      },
      "outputs": [
        {
          "output_type": "stream",
          "name": "stdout",
          "text": [
            "Ultralytics YOLOv8.0.222 🚀 Python-3.10.12 torch-2.1.0+cu118 CUDA:0 (Tesla T4, 15102MiB)\n",
            "Setup complete ✅ (2 CPUs, 12.7 GB RAM, 26.9/78.2 GB disk)\n"
          ]
        }
      ],
      "source": [
        "import ultralytics\n",
        "ultralytics.checks()"
      ]
    },
    {
      "cell_type": "markdown",
      "source": [
        "First we created a Roboflow account with an api key."
      ],
      "metadata": {
        "id": "y0nc24JqQ6kH"
      }
    },
    {
      "cell_type": "code",
      "source": [
        "# Open the file and read the api key\n",
        "with open('roboflow_key', 'r') as file:\n",
        "    api_key = file.read().strip()"
      ],
      "metadata": {
        "id": "fcy9AB0hPrtX"
      },
      "execution_count": null,
      "outputs": []
    },
    {
      "cell_type": "code",
      "source": [
        "!pip install roboflow"
      ],
      "metadata": {
        "colab": {
          "base_uri": "https://localhost:8080/",
          "height": 1000
        },
        "id": "7vOV398tQjdT",
        "outputId": "a19c56d5-878e-49e8-bdf2-698800d0e3d7"
      },
      "execution_count": null,
      "outputs": [
        {
          "output_type": "stream",
          "name": "stdout",
          "text": [
            "Collecting roboflow\n",
            "  Downloading roboflow-1.1.12-py3-none-any.whl (68 kB)\n",
            "\u001b[2K     \u001b[90m━━━━━━━━━━━━━━━━━━━━━━━━━━━━━━━━━━━━━━━━\u001b[0m \u001b[32m68.5/68.5 kB\u001b[0m \u001b[31m1.4 MB/s\u001b[0m eta \u001b[36m0:00:00\u001b[0m\n",
            "\u001b[?25hCollecting certifi==2023.7.22 (from roboflow)\n",
            "  Downloading certifi-2023.7.22-py3-none-any.whl (158 kB)\n",
            "\u001b[2K     \u001b[90m━━━━━━━━━━━━━━━━━━━━━━━━━━━━━━━━━━━━━━━━\u001b[0m \u001b[32m158.3/158.3 kB\u001b[0m \u001b[31m6.5 MB/s\u001b[0m eta \u001b[36m0:00:00\u001b[0m\n",
            "\u001b[?25hCollecting chardet==4.0.0 (from roboflow)\n",
            "  Downloading chardet-4.0.0-py2.py3-none-any.whl (178 kB)\n",
            "\u001b[2K     \u001b[90m━━━━━━━━━━━━━━━━━━━━━━━━━━━━━━━━━━━━━━━━\u001b[0m \u001b[32m178.7/178.7 kB\u001b[0m \u001b[31m24.1 MB/s\u001b[0m eta \u001b[36m0:00:00\u001b[0m\n",
            "\u001b[?25hCollecting cycler==0.10.0 (from roboflow)\n",
            "  Downloading cycler-0.10.0-py2.py3-none-any.whl (6.5 kB)\n",
            "Collecting idna==2.10 (from roboflow)\n",
            "  Downloading idna-2.10-py2.py3-none-any.whl (58 kB)\n",
            "\u001b[2K     \u001b[90m━━━━━━━━━━━━━━━━━━━━━━━━━━━━━━━━━━━━━━━━\u001b[0m \u001b[32m58.8/58.8 kB\u001b[0m \u001b[31m9.4 MB/s\u001b[0m eta \u001b[36m0:00:00\u001b[0m\n",
            "\u001b[?25hRequirement already satisfied: kiwisolver>=1.3.1 in /usr/local/lib/python3.10/dist-packages (from roboflow) (1.4.5)\n",
            "Requirement already satisfied: matplotlib in /usr/local/lib/python3.10/dist-packages (from roboflow) (3.7.1)\n",
            "Requirement already satisfied: numpy>=1.18.5 in /usr/local/lib/python3.10/dist-packages (from roboflow) (1.23.5)\n",
            "Collecting opencv-python-headless==4.8.0.74 (from roboflow)\n",
            "  Downloading opencv_python_headless-4.8.0.74-cp37-abi3-manylinux_2_17_x86_64.manylinux2014_x86_64.whl (49.1 MB)\n",
            "\u001b[2K     \u001b[90m━━━━━━━━━━━━━━━━━━━━━━━━━━━━━━━━━━━━━━━━\u001b[0m \u001b[32m49.1/49.1 MB\u001b[0m \u001b[31m14.3 MB/s\u001b[0m eta \u001b[36m0:00:00\u001b[0m\n",
            "\u001b[?25hRequirement already satisfied: Pillow>=7.1.2 in /usr/local/lib/python3.10/dist-packages (from roboflow) (9.4.0)\n",
            "Collecting pyparsing==2.4.7 (from roboflow)\n",
            "  Downloading pyparsing-2.4.7-py2.py3-none-any.whl (67 kB)\n",
            "\u001b[2K     \u001b[90m━━━━━━━━━━━━━━━━━━━━━━━━━━━━━━━━━━━━━━━━\u001b[0m \u001b[32m67.8/67.8 kB\u001b[0m \u001b[31m9.4 MB/s\u001b[0m eta \u001b[36m0:00:00\u001b[0m\n",
            "\u001b[?25hRequirement already satisfied: python-dateutil in /usr/local/lib/python3.10/dist-packages (from roboflow) (2.8.2)\n",
            "Collecting python-dotenv (from roboflow)\n",
            "  Downloading python_dotenv-1.0.0-py3-none-any.whl (19 kB)\n",
            "Requirement already satisfied: requests in /usr/local/lib/python3.10/dist-packages (from roboflow) (2.31.0)\n",
            "Requirement already satisfied: six in /usr/local/lib/python3.10/dist-packages (from roboflow) (1.16.0)\n",
            "Collecting supervision (from roboflow)\n",
            "  Downloading supervision-0.17.0-py3-none-any.whl (77 kB)\n",
            "\u001b[2K     \u001b[90m━━━━━━━━━━━━━━━━━━━━━━━━━━━━━━━━━━━━━━━━\u001b[0m \u001b[32m77.6/77.6 kB\u001b[0m \u001b[31m10.3 MB/s\u001b[0m eta \u001b[36m0:00:00\u001b[0m\n",
            "\u001b[?25hRequirement already satisfied: urllib3>=1.26.6 in /usr/local/lib/python3.10/dist-packages (from roboflow) (2.0.7)\n",
            "Requirement already satisfied: tqdm>=4.41.0 in /usr/local/lib/python3.10/dist-packages (from roboflow) (4.66.1)\n",
            "Requirement already satisfied: PyYAML>=5.3.1 in /usr/local/lib/python3.10/dist-packages (from roboflow) (6.0.1)\n",
            "Collecting requests-toolbelt (from roboflow)\n",
            "  Downloading requests_toolbelt-1.0.0-py2.py3-none-any.whl (54 kB)\n",
            "\u001b[2K     \u001b[90m━━━━━━━━━━━━━━━━━━━━━━━━━━━━━━━━━━━━━━━━\u001b[0m \u001b[32m54.5/54.5 kB\u001b[0m \u001b[31m8.3 MB/s\u001b[0m eta \u001b[36m0:00:00\u001b[0m\n",
            "\u001b[?25hCollecting python-magic (from roboflow)\n",
            "  Downloading python_magic-0.4.27-py2.py3-none-any.whl (13 kB)\n",
            "Requirement already satisfied: contourpy>=1.0.1 in /usr/local/lib/python3.10/dist-packages (from matplotlib->roboflow) (1.2.0)\n",
            "Requirement already satisfied: fonttools>=4.22.0 in /usr/local/lib/python3.10/dist-packages (from matplotlib->roboflow) (4.46.0)\n",
            "Requirement already satisfied: packaging>=20.0 in /usr/local/lib/python3.10/dist-packages (from matplotlib->roboflow) (23.2)\n",
            "Requirement already satisfied: charset-normalizer<4,>=2 in /usr/local/lib/python3.10/dist-packages (from requests->roboflow) (3.3.2)\n",
            "Requirement already satisfied: scipy<=2.0.0,>=1.9.0 in /usr/local/lib/python3.10/dist-packages (from supervision->roboflow) (1.11.4)\n",
            "Installing collected packages: python-magic, python-dotenv, pyparsing, opencv-python-headless, idna, cycler, chardet, certifi, supervision, requests-toolbelt, roboflow\n",
            "  Attempting uninstall: pyparsing\n",
            "    Found existing installation: pyparsing 3.1.1\n",
            "    Uninstalling pyparsing-3.1.1:\n",
            "      Successfully uninstalled pyparsing-3.1.1\n",
            "  Attempting uninstall: opencv-python-headless\n",
            "    Found existing installation: opencv-python-headless 4.8.1.78\n",
            "    Uninstalling opencv-python-headless-4.8.1.78:\n",
            "      Successfully uninstalled opencv-python-headless-4.8.1.78\n",
            "  Attempting uninstall: idna\n",
            "    Found existing installation: idna 3.6\n",
            "    Uninstalling idna-3.6:\n",
            "      Successfully uninstalled idna-3.6\n",
            "  Attempting uninstall: cycler\n",
            "    Found existing installation: cycler 0.12.1\n",
            "    Uninstalling cycler-0.12.1:\n",
            "      Successfully uninstalled cycler-0.12.1\n",
            "  Attempting uninstall: chardet\n",
            "    Found existing installation: chardet 5.2.0\n",
            "    Uninstalling chardet-5.2.0:\n",
            "      Successfully uninstalled chardet-5.2.0\n",
            "  Attempting uninstall: certifi\n",
            "    Found existing installation: certifi 2023.11.17\n",
            "    Uninstalling certifi-2023.11.17:\n",
            "      Successfully uninstalled certifi-2023.11.17\n",
            "\u001b[31mERROR: pip's dependency resolver does not currently take into account all the packages that are installed. This behaviour is the source of the following dependency conflicts.\n",
            "lida 0.0.10 requires fastapi, which is not installed.\n",
            "lida 0.0.10 requires kaleido, which is not installed.\n",
            "lida 0.0.10 requires python-multipart, which is not installed.\n",
            "lida 0.0.10 requires uvicorn, which is not installed.\u001b[0m\u001b[31m\n",
            "\u001b[0mSuccessfully installed certifi-2023.7.22 chardet-4.0.0 cycler-0.10.0 idna-2.10 opencv-python-headless-4.8.0.74 pyparsing-2.4.7 python-dotenv-1.0.0 python-magic-0.4.27 requests-toolbelt-1.0.0 roboflow-1.1.12 supervision-0.17.0\n"
          ]
        },
        {
          "output_type": "display_data",
          "data": {
            "application/vnd.colab-display-data+json": {
              "pip_warning": {
                "packages": [
                  "certifi",
                  "chardet",
                  "cv2",
                  "cycler",
                  "idna",
                  "pyparsing"
                ]
              }
            }
          },
          "metadata": {}
        }
      ]
    },
    {
      "cell_type": "markdown",
      "source": [
        "Then downloaded the UNO cards dataset from Roboflow (https://public.roboflow.com/object-detection/uno-cards):"
      ],
      "metadata": {
        "id": "X_F8fA3CQ_Wp"
      }
    },
    {
      "cell_type": "code",
      "source": [
        "from roboflow import Roboflow\n",
        "rf = Roboflow(api_key=api_key)\n",
        "project = rf.workspace(\"joseph-nelson\").project(\"uno-cards\")\n",
        "dataset = project.version(1).download(\"yolov8\")"
      ],
      "metadata": {
        "colab": {
          "base_uri": "https://localhost:8080/"
        },
        "id": "g5F_q_LzQYA2",
        "outputId": "af6b8263-fd67-495c-cd75-355de8ccbfd2"
      },
      "execution_count": null,
      "outputs": [
        {
          "output_type": "stream",
          "name": "stdout",
          "text": [
            "loading Roboflow workspace...\n",
            "loading Roboflow project...\n",
            "Dependency ultralytics==8.0.196 is required but found version=8.0.222, to fix: `pip install ultralytics==8.0.196`\n"
          ]
        },
        {
          "output_type": "stream",
          "name": "stderr",
          "text": [
            "Downloading Dataset Version Zip in Uno-Cards-1 to yolov8:: 100%|██████████| 694643/694643 [00:21<00:00, 31624.64it/s]"
          ]
        },
        {
          "output_type": "stream",
          "name": "stdout",
          "text": [
            "\n"
          ]
        },
        {
          "output_type": "stream",
          "name": "stderr",
          "text": [
            "\n",
            "Extracting Dataset Version Zip to Uno-Cards-1 in yolov8:: 100%|██████████| 43176/43176 [00:08<00:00, 4931.39it/s]\n"
          ]
        }
      ]
    },
    {
      "cell_type": "markdown",
      "source": [
        "![Image example](https://i.imgur.com/P8jIKjb.jpg)"
      ],
      "metadata": {
        "id": "6C26rV8uRD4S"
      }
    },
    {
      "cell_type": "markdown",
      "source": [
        "According to the README file, the following pre-processing was applied to each image:\n",
        "* Auto-orientation of pixel data (with EXIF-orientation stripping)\n",
        "* Resize to 416x416 (Stretch)"
      ],
      "metadata": {
        "id": "T_QHk8oFRHvM"
      }
    },
    {
      "cell_type": "markdown",
      "source": [
        "To work with Yolo, we need to make sure the data is stored in the `datasets` directory."
      ],
      "metadata": {
        "id": "dQW9__uzV7FM"
      }
    },
    {
      "cell_type": "code",
      "source": [
        "# Create dataset directory\n",
        "!mkdir datasets\n",
        "\n",
        "# Create sub directory for Uno Cards\n",
        "!mkdir datasets/Uno-Cards-1"
      ],
      "metadata": {
        "id": "FbuGSkVwSDkL"
      },
      "execution_count": null,
      "outputs": []
    },
    {
      "cell_type": "code",
      "source": [
        "# Duplicate the Uno cards directory into the datasets folder\n",
        "!cp -r Uno-Cards-1/. datasets/Uno-Cards-1/"
      ],
      "metadata": {
        "id": "0U8EUP1GVixn"
      },
      "execution_count": null,
      "outputs": []
    },
    {
      "cell_type": "markdown",
      "source": [
        "We also need to update `data.yaml` so that the `train` and `val` paths are correct:\n",
        "\n",
        "\n",
        "```\n",
        "# Old path\n",
        "train: Uno-Cards-1/train/images\n",
        "val: Uno-Cards-1/valid/images\n",
        "\n",
        "# Corrected path\n",
        "train: ../train/images\n",
        "val: ../valid/images\n",
        "```"
      ],
      "metadata": {
        "id": "KmdDMWz2WMMG"
      }
    },
    {
      "cell_type": "code",
      "source": [
        "!pip install ruamel.yaml"
      ],
      "metadata": {
        "colab": {
          "base_uri": "https://localhost:8080/"
        },
        "id": "tCyc0imdTAjx",
        "outputId": "aa328fc8-fb6d-4edc-f8d5-aacaa9182b2e"
      },
      "execution_count": null,
      "outputs": [
        {
          "output_type": "stream",
          "name": "stdout",
          "text": [
            "Collecting ruamel.yaml\n",
            "  Downloading ruamel.yaml-0.18.5-py3-none-any.whl (116 kB)\n",
            "\u001b[2K     \u001b[90m━━━━━━━━━━━━━━━━━━━━━━━━━━━━━━━━━━━━━━━━\u001b[0m \u001b[32m116.4/116.4 kB\u001b[0m \u001b[31m1.5 MB/s\u001b[0m eta \u001b[36m0:00:00\u001b[0m\n",
            "\u001b[?25hCollecting ruamel.yaml.clib>=0.2.7 (from ruamel.yaml)\n",
            "  Downloading ruamel.yaml.clib-0.2.8-cp310-cp310-manylinux_2_17_x86_64.manylinux2014_x86_64.manylinux_2_24_x86_64.whl (526 kB)\n",
            "\u001b[2K     \u001b[90m━━━━━━━━━━━━━━━━━━━━━━━━━━━━━━━━━━━━━━━━\u001b[0m \u001b[32m526.7/526.7 kB\u001b[0m \u001b[31m6.0 MB/s\u001b[0m eta \u001b[36m0:00:00\u001b[0m\n",
            "\u001b[?25hInstalling collected packages: ruamel.yaml.clib, ruamel.yaml\n",
            "Successfully installed ruamel.yaml-0.18.5 ruamel.yaml.clib-0.2.8\n"
          ]
        }
      ]
    },
    {
      "cell_type": "code",
      "source": [
        "import ruamel.yaml\n",
        "\n",
        "# Load the YAML file\n",
        "file_path = 'datasets/Uno-Cards-1/data.yaml'\n",
        "yaml = ruamel.yaml.YAML()\n",
        "with open(file_path, 'r') as file:\n",
        "    data = yaml.load(file)\n",
        "\n",
        "# Modify the YAML data\n",
        "data['train'] = '../train/images'\n",
        "data['val'] = '../valid/images'\n",
        "\n",
        "# Save the modified data back to the file\n",
        "with open(file_path, 'w') as file:\n",
        "    yaml.dump(data, file)"
      ],
      "metadata": {
        "id": "Pxjv3cLbSt_s"
      },
      "execution_count": null,
      "outputs": []
    },
    {
      "cell_type": "markdown",
      "source": [
        "## Model Architecture"
      ],
      "metadata": {
        "id": "z75zm90YRKw6"
      }
    },
    {
      "cell_type": "markdown",
      "source": [
        "Let's use a pretrained yolo model `yolov8n.pt` to save time, and train our model stored at `data_path` on this model."
      ],
      "metadata": {
        "id": "IYsL3TcTRPoa"
      }
    },
    {
      "cell_type": "code",
      "source": [
        "# Declare the path to the yaml file\n",
        "data_path = '/content/datasets/Uno-Cards-1/data.yaml'"
      ],
      "metadata": {
        "id": "GvMPh8vtRQIT"
      },
      "execution_count": null,
      "outputs": []
    },
    {
      "cell_type": "code",
      "source": [
        "from ultralytics import YOLO\n",
        "\n",
        "# Set up the pretrained model\n",
        "model = YOLO('yolov8n.pt')"
      ],
      "metadata": {
        "colab": {
          "base_uri": "https://localhost:8080/"
        },
        "id": "ZmqCOAdYRUZ1",
        "outputId": "2fb70c94-4ac2-4e55-c7cf-c0367dd49b08"
      },
      "execution_count": null,
      "outputs": [
        {
          "output_type": "stream",
          "name": "stdout",
          "text": [
            "Downloading https://github.com/ultralytics/assets/releases/download/v0.0.0/yolov8n.pt to 'yolov8n.pt'...\n"
          ]
        },
        {
          "output_type": "stream",
          "name": "stderr",
          "text": [
            "100%|██████████| 6.23M/6.23M [00:00<00:00, 77.3MB/s]\n"
          ]
        }
      ]
    },
    {
      "cell_type": "code",
      "source": [
        "# Train the model to our dataset\n",
        "results = model.train(data=data_path, epochs=3)"
      ],
      "metadata": {
        "colab": {
          "base_uri": "https://localhost:8080/"
        },
        "id": "opmK2hXSRXQS",
        "outputId": "625eef09-9cfe-4c9c-c1ac-64ce433c1edd"
      },
      "execution_count": null,
      "outputs": [
        {
          "output_type": "stream",
          "name": "stdout",
          "text": [
            "Ultralytics YOLOv8.0.222 🚀 Python-3.10.12 torch-2.1.0+cu118 CUDA:0 (Tesla T4, 15102MiB)\n",
            "\u001b[34m\u001b[1mengine/trainer: \u001b[0mtask=detect, mode=train, model=yolov8n.pt, data=/content/datasets/Uno-Cards-1/data.yaml, epochs=3, patience=50, batch=16, imgsz=640, save=True, save_period=-1, cache=False, device=None, workers=8, project=None, name=train, exist_ok=False, pretrained=True, optimizer=auto, verbose=True, seed=0, deterministic=True, single_cls=False, rect=False, cos_lr=False, close_mosaic=10, resume=False, amp=True, fraction=1.0, profile=False, freeze=None, overlap_mask=True, mask_ratio=4, dropout=0.0, val=True, split=val, save_json=False, save_hybrid=False, conf=None, iou=0.7, max_det=300, half=False, dnn=False, plots=True, source=None, vid_stride=1, stream_buffer=False, visualize=False, augment=False, agnostic_nms=False, classes=None, retina_masks=False, show=False, save_frames=False, save_txt=False, save_conf=False, save_crop=False, show_labels=True, show_conf=True, show_boxes=True, line_width=None, format=torchscript, keras=False, optimize=False, int8=False, dynamic=False, simplify=False, opset=None, workspace=4, nms=False, lr0=0.01, lrf=0.01, momentum=0.937, weight_decay=0.0005, warmup_epochs=3.0, warmup_momentum=0.8, warmup_bias_lr=0.1, box=7.5, cls=0.5, dfl=1.5, pose=12.0, kobj=1.0, label_smoothing=0.0, nbs=64, hsv_h=0.015, hsv_s=0.7, hsv_v=0.4, degrees=0.0, translate=0.1, scale=0.5, shear=0.0, perspective=0.0, flipud=0.0, fliplr=0.5, mosaic=1.0, mixup=0.0, copy_paste=0.0, cfg=None, tracker=botsort.yaml, save_dir=runs/detect/train\n",
            "Downloading https://ultralytics.com/assets/Arial.ttf to '/root/.config/Ultralytics/Arial.ttf'...\n"
          ]
        },
        {
          "output_type": "stream",
          "name": "stderr",
          "text": [
            "100%|██████████| 755k/755k [00:00<00:00, 17.5MB/s]\n"
          ]
        },
        {
          "output_type": "stream",
          "name": "stdout",
          "text": [
            "Overriding model.yaml nc=80 with nc=15\n",
            "\n",
            "                   from  n    params  module                                       arguments                     \n",
            "  0                  -1  1       464  ultralytics.nn.modules.conv.Conv             [3, 16, 3, 2]                 \n",
            "  1                  -1  1      4672  ultralytics.nn.modules.conv.Conv             [16, 32, 3, 2]                \n",
            "  2                  -1  1      7360  ultralytics.nn.modules.block.C2f             [32, 32, 1, True]             \n",
            "  3                  -1  1     18560  ultralytics.nn.modules.conv.Conv             [32, 64, 3, 2]                \n",
            "  4                  -1  2     49664  ultralytics.nn.modules.block.C2f             [64, 64, 2, True]             \n",
            "  5                  -1  1     73984  ultralytics.nn.modules.conv.Conv             [64, 128, 3, 2]               \n",
            "  6                  -1  2    197632  ultralytics.nn.modules.block.C2f             [128, 128, 2, True]           \n",
            "  7                  -1  1    295424  ultralytics.nn.modules.conv.Conv             [128, 256, 3, 2]              \n",
            "  8                  -1  1    460288  ultralytics.nn.modules.block.C2f             [256, 256, 1, True]           \n",
            "  9                  -1  1    164608  ultralytics.nn.modules.block.SPPF            [256, 256, 5]                 \n",
            " 10                  -1  1         0  torch.nn.modules.upsampling.Upsample         [None, 2, 'nearest']          \n",
            " 11             [-1, 6]  1         0  ultralytics.nn.modules.conv.Concat           [1]                           \n",
            " 12                  -1  1    148224  ultralytics.nn.modules.block.C2f             [384, 128, 1]                 \n",
            " 13                  -1  1         0  torch.nn.modules.upsampling.Upsample         [None, 2, 'nearest']          \n",
            " 14             [-1, 4]  1         0  ultralytics.nn.modules.conv.Concat           [1]                           \n",
            " 15                  -1  1     37248  ultralytics.nn.modules.block.C2f             [192, 64, 1]                  \n",
            " 16                  -1  1     36992  ultralytics.nn.modules.conv.Conv             [64, 64, 3, 2]                \n",
            " 17            [-1, 12]  1         0  ultralytics.nn.modules.conv.Concat           [1]                           \n",
            " 18                  -1  1    123648  ultralytics.nn.modules.block.C2f             [192, 128, 1]                 \n",
            " 19                  -1  1    147712  ultralytics.nn.modules.conv.Conv             [128, 128, 3, 2]              \n",
            " 20             [-1, 9]  1         0  ultralytics.nn.modules.conv.Concat           [1]                           \n",
            " 21                  -1  1    493056  ultralytics.nn.modules.block.C2f             [384, 256, 1]                 \n",
            " 22        [15, 18, 21]  1    754237  ultralytics.nn.modules.head.Detect           [15, [64, 128, 256]]          \n",
            "Model summary: 225 layers, 3013773 parameters, 3013757 gradients, 8.2 GFLOPs\n",
            "\n",
            "Transferred 319/355 items from pretrained weights\n",
            "\u001b[34m\u001b[1mTensorBoard: \u001b[0mStart with 'tensorboard --logdir runs/detect/train', view at http://localhost:6006/\n",
            "Freezing layer 'model.22.dfl.conv.weight'\n",
            "\u001b[34m\u001b[1mAMP: \u001b[0mrunning Automatic Mixed Precision (AMP) checks with YOLOv8n...\n",
            "\u001b[34m\u001b[1mAMP: \u001b[0mchecks passed ✅\n"
          ]
        },
        {
          "output_type": "stream",
          "name": "stderr",
          "text": [
            "\u001b[34m\u001b[1mtrain: \u001b[0mScanning /content/datasets/Uno-Cards-1/train/labels... 18885 images, 0 backgrounds, 0 corrupt: 100%|██████████| 18885/18885 [00:09<00:00, 2085.03it/s]\n"
          ]
        },
        {
          "output_type": "stream",
          "name": "stdout",
          "text": [
            "\u001b[34m\u001b[1mtrain: \u001b[0mNew cache created: /content/datasets/Uno-Cards-1/train/labels.cache\n",
            "\u001b[34m\u001b[1malbumentations: \u001b[0mBlur(p=0.01, blur_limit=(3, 7)), MedianBlur(p=0.01, blur_limit=(3, 7)), ToGray(p=0.01), CLAHE(p=0.01, clip_limit=(1, 4.0), tile_grid_size=(8, 8))\n"
          ]
        },
        {
          "output_type": "stream",
          "name": "stderr",
          "text": [
            "\u001b[34m\u001b[1mval: \u001b[0mScanning /content/datasets/Uno-Cards-1/valid/labels... 1798 images, 0 backgrounds, 0 corrupt: 100%|██████████| 1798/1798 [00:01<00:00, 1065.89it/s]\n"
          ]
        },
        {
          "output_type": "stream",
          "name": "stdout",
          "text": [
            "\u001b[34m\u001b[1mval: \u001b[0mNew cache created: /content/datasets/Uno-Cards-1/valid/labels.cache\n",
            "Plotting labels to runs/detect/train/labels.jpg... \n",
            "\u001b[34m\u001b[1moptimizer:\u001b[0m 'optimizer=auto' found, ignoring 'lr0=0.01' and 'momentum=0.937' and determining best 'optimizer', 'lr0' and 'momentum' automatically... \n",
            "\u001b[34m\u001b[1moptimizer:\u001b[0m AdamW(lr=0.000526, momentum=0.9) with parameter groups 57 weight(decay=0.0), 64 weight(decay=0.0005), 63 bias(decay=0.0)\n",
            "Image sizes 640 train, 640 val\n",
            "Using 2 dataloader workers\n",
            "Logging results to \u001b[1mruns/detect/train\u001b[0m\n",
            "Starting training for 3 epochs...\n",
            "\n",
            "      Epoch    GPU_mem   box_loss   cls_loss   dfl_loss  Instances       Size\n"
          ]
        },
        {
          "output_type": "stream",
          "name": "stderr",
          "text": [
            "        1/3      2.66G      1.062      2.022     0.9683         16        640: 100%|██████████| 1181/1181 [06:43<00:00,  2.93it/s]\n",
            "                 Class     Images  Instances      Box(P          R      mAP50  mAP50-95): 100%|██████████| 57/57 [00:18<00:00,  3.01it/s]"
          ]
        },
        {
          "output_type": "stream",
          "name": "stdout",
          "text": [
            "                   all       1798       5394      0.986       0.99      0.993      0.826\n"
          ]
        },
        {
          "output_type": "stream",
          "name": "stderr",
          "text": [
            "\n"
          ]
        },
        {
          "output_type": "stream",
          "name": "stdout",
          "text": [
            "\n",
            "      Epoch    GPU_mem   box_loss   cls_loss   dfl_loss  Instances       Size\n"
          ]
        },
        {
          "output_type": "stream",
          "name": "stderr",
          "text": [
            "        2/3      2.38G     0.7804      0.781     0.8789         22        640: 100%|██████████| 1181/1181 [06:31<00:00,  3.01it/s]\n",
            "                 Class     Images  Instances      Box(P          R      mAP50  mAP50-95): 100%|██████████| 57/57 [00:17<00:00,  3.24it/s]"
          ]
        },
        {
          "output_type": "stream",
          "name": "stdout",
          "text": [
            "                   all       1798       5394      0.995      0.997      0.994       0.85\n"
          ]
        },
        {
          "output_type": "stream",
          "name": "stderr",
          "text": [
            "\n"
          ]
        },
        {
          "output_type": "stream",
          "name": "stdout",
          "text": [
            "\n",
            "      Epoch    GPU_mem   box_loss   cls_loss   dfl_loss  Instances       Size\n"
          ]
        },
        {
          "output_type": "stream",
          "name": "stderr",
          "text": [
            "        3/3      2.38G     0.7123     0.5994     0.8638         16        640: 100%|██████████| 1181/1181 [06:28<00:00,  3.04it/s]\n",
            "                 Class     Images  Instances      Box(P          R      mAP50  mAP50-95): 100%|██████████| 57/57 [00:17<00:00,  3.21it/s]"
          ]
        },
        {
          "output_type": "stream",
          "name": "stdout",
          "text": [
            "                   all       1798       5394      0.996      0.997      0.993      0.857\n"
          ]
        },
        {
          "output_type": "stream",
          "name": "stderr",
          "text": [
            "\n"
          ]
        },
        {
          "output_type": "stream",
          "name": "stdout",
          "text": [
            "\n",
            "3 epochs completed in 0.345 hours.\n",
            "Optimizer stripped from runs/detect/train/weights/last.pt, 6.3MB\n",
            "Optimizer stripped from runs/detect/train/weights/best.pt, 6.3MB\n",
            "\n",
            "Validating runs/detect/train/weights/best.pt...\n",
            "Ultralytics YOLOv8.0.222 🚀 Python-3.10.12 torch-2.1.0+cu118 CUDA:0 (Tesla T4, 15102MiB)\n",
            "Model summary (fused): 168 layers, 3008573 parameters, 0 gradients, 8.1 GFLOPs\n"
          ]
        },
        {
          "output_type": "stream",
          "name": "stderr",
          "text": [
            "                 Class     Images  Instances      Box(P          R      mAP50  mAP50-95): 100%|██████████| 57/57 [00:23<00:00,  2.42it/s]\n"
          ]
        },
        {
          "output_type": "stream",
          "name": "stdout",
          "text": [
            "                   all       1798       5394      0.996      0.997      0.993      0.857\n",
            "                     0       1798        370      0.999          1      0.995      0.889\n",
            "                     1       1798        374      0.999          1      0.995      0.852\n",
            "                    10       1798        346      0.999          1      0.995      0.842\n",
            "                    11       1798        367          1          1      0.995      0.865\n",
            "                    12       1798        353          1      0.999      0.995      0.856\n",
            "                    13       1798        340      0.962      0.957      0.961       0.71\n",
            "                    14       1798        374      0.994          1      0.995      0.857\n",
            "                     2       1798        368          1          1      0.995      0.866\n",
            "                     3       1798        374      0.999          1      0.995      0.883\n",
            "                     4       1798        351      0.999          1      0.995      0.866\n",
            "                     5       1798        359      0.999      0.997      0.995      0.877\n",
            "                     6       1798        352      0.998          1      0.995      0.872\n",
            "                     7       1798        359      0.999          1      0.995      0.862\n",
            "                     8       1798        322          1      0.999      0.995       0.89\n",
            "                     9       1798        385          1          1      0.995      0.868\n",
            "Speed: 0.3ms preprocess, 2.2ms inference, 0.0ms loss, 1.7ms postprocess per image\n",
            "Results saved to \u001b[1mruns/detect/train\u001b[0m\n"
          ]
        }
      ]
    },
    {
      "cell_type": "markdown",
      "source": [
        "Next, we can tune our hyperparameters using the built-in `tune()` method. This will allow us to run multiple tuning experiments without manually tuning ourselves. In addition, we'll be using skipping plotting, checkpointing and validation other than on final epoch for faster Tuning.\n",
        "\n"
      ],
      "metadata": {
        "id": "JbF5wpmMYXeP"
      }
    },
    {
      "cell_type": "code",
      "source": [
        "# Tune hyperparameters\n",
        "model.tune(data=data_path, epochs=3, iterations=5, plots=False, save=False, val=False)"
      ],
      "metadata": {
        "colab": {
          "base_uri": "https://localhost:8080/"
        },
        "id": "eIwVydkgYuTE",
        "outputId": "4661a3e6-d49d-4b5a-81fa-6bd966451c6b"
      },
      "execution_count": null,
      "outputs": [
        {
          "output_type": "stream",
          "name": "stdout",
          "text": [
            "\u001b[34m\u001b[1mTuner: \u001b[0mInitialized Tuner instance with 'tune_dir=runs/detect/tune'\n",
            "\u001b[34m\u001b[1mTuner: \u001b[0m💡 Learn about tuning at https://docs.ultralytics.com/guides/hyperparameter-tuning\n",
            "\u001b[34m\u001b[1mTuner: \u001b[0mStarting iteration 1/5 with hyperparameters: {'lr0': 0.01, 'lrf': 0.01, 'momentum': 0.937, 'weight_decay': 0.0005, 'warmup_epochs': 3.0, 'warmup_momentum': 0.8, 'box': 7.5, 'cls': 0.5, 'dfl': 1.5, 'hsv_h': 0.015, 'hsv_s': 0.7, 'hsv_v': 0.4, 'degrees': 0.0, 'translate': 0.1, 'scale': 0.5, 'shear': 0.0, 'perspective': 0.0, 'flipud': 0.0, 'fliplr': 0.5, 'mosaic': 1.0, 'mixup': 0.0, 'copy_paste': 0.0}\n",
            "Saved runs/detect/tune/tune_scatter_plots.png\n",
            "Saved runs/detect/tune/tune_fitness.png\n",
            "\n",
            "\u001b[34m\u001b[1mTuner: \u001b[0m1/5 iterations complete ✅ (1216.79s)\n",
            "\u001b[34m\u001b[1mTuner: \u001b[0mResults saved to \u001b[1mruns/detect/tune\u001b[0m\n",
            "\u001b[34m\u001b[1mTuner: \u001b[0mBest fitness=0.87032 observed at iteration 1\n",
            "\u001b[34m\u001b[1mTuner: \u001b[0mBest fitness metrics are {'metrics/precision(B)': 0.99638, 'metrics/recall(B)': 0.99689, 'metrics/mAP50(B)': 0.99272, 'metrics/mAP50-95(B)': 0.85673, 'val/box_loss': 0.58839, 'val/cls_loss': 0.36969, 'val/dfl_loss': 0.82812, 'fitness': 0.87032}\n",
            "\u001b[34m\u001b[1mTuner: \u001b[0mBest fitness model is runs/detect/train2\n",
            "\u001b[34m\u001b[1mTuner: \u001b[0mBest fitness hyperparameters are printed below.\n",
            "\n",
            "Printing '\u001b[1m\u001b[30mruns/detect/tune/best_hyperparameters.yaml\u001b[0m'\n",
            "\n",
            "lr0: 0.01\n",
            "lrf: 0.01\n",
            "momentum: 0.937\n",
            "weight_decay: 0.0005\n",
            "warmup_epochs: 3.0\n",
            "warmup_momentum: 0.8\n",
            "box: 7.5\n",
            "cls: 0.5\n",
            "dfl: 1.5\n",
            "hsv_h: 0.015\n",
            "hsv_s: 0.7\n",
            "hsv_v: 0.4\n",
            "degrees: 0.0\n",
            "translate: 0.1\n",
            "scale: 0.5\n",
            "shear: 0.0\n",
            "perspective: 0.0\n",
            "flipud: 0.0\n",
            "fliplr: 0.5\n",
            "mosaic: 1.0\n",
            "mixup: 0.0\n",
            "copy_paste: 0.0\n",
            "\n",
            "\u001b[34m\u001b[1mTuner: \u001b[0mStarting iteration 2/5 with hyperparameters: {'lr0': 0.01064, 'lrf': 0.01, 'momentum': 0.91926, 'weight_decay': 0.00053, 'warmup_epochs': 2.67052, 'warmup_momentum': 0.8, 'box': 7.21482, 'cls': 0.48983, 'dfl': 1.44136, 'hsv_h': 0.01373, 'hsv_s': 0.76175, 'hsv_v': 0.41494, 'degrees': 0.0, 'translate': 0.09342, 'scale': 0.52006, 'shear': 0.0, 'perspective': 0.0, 'flipud': 0.0, 'fliplr': 0.55142, 'mosaic': 0.91525, 'mixup': 0.0, 'copy_paste': 0.0}\n",
            "Saved runs/detect/tune/tune_scatter_plots.png\n",
            "Saved runs/detect/tune/tune_fitness.png\n",
            "\n",
            "\u001b[34m\u001b[1mTuner: \u001b[0m2/5 iterations complete ✅ (2440.50s)\n",
            "\u001b[34m\u001b[1mTuner: \u001b[0mResults saved to \u001b[1mruns/detect/tune\u001b[0m\n",
            "\u001b[34m\u001b[1mTuner: \u001b[0mBest fitness=0.87414 observed at iteration 2\n",
            "\u001b[34m\u001b[1mTuner: \u001b[0mBest fitness metrics are {'metrics/precision(B)': 0.99444, 'metrics/recall(B)': 0.99463, 'metrics/mAP50(B)': 0.99188, 'metrics/mAP50-95(B)': 0.86106, 'val/box_loss': 0.54636, 'val/cls_loss': 0.35555, 'val/dfl_loss': 0.79095, 'fitness': 0.87414}\n",
            "\u001b[34m\u001b[1mTuner: \u001b[0mBest fitness model is runs/detect/train3\n",
            "\u001b[34m\u001b[1mTuner: \u001b[0mBest fitness hyperparameters are printed below.\n",
            "\n",
            "Printing '\u001b[1m\u001b[30mruns/detect/tune/best_hyperparameters.yaml\u001b[0m'\n",
            "\n",
            "lr0: 0.01064\n",
            "lrf: 0.01\n",
            "momentum: 0.91926\n",
            "weight_decay: 0.00053\n",
            "warmup_epochs: 2.67052\n",
            "warmup_momentum: 0.8\n",
            "box: 7.21482\n",
            "cls: 0.48983\n",
            "dfl: 1.44136\n",
            "hsv_h: 0.01373\n",
            "hsv_s: 0.76175\n",
            "hsv_v: 0.41494\n",
            "degrees: 0.0\n",
            "translate: 0.09342\n",
            "scale: 0.52006\n",
            "shear: 0.0\n",
            "perspective: 0.0\n",
            "flipud: 0.0\n",
            "fliplr: 0.55142\n",
            "mosaic: 0.91525\n",
            "mixup: 0.0\n",
            "copy_paste: 0.0\n",
            "\n",
            "\u001b[34m\u001b[1mTuner: \u001b[0mStarting iteration 3/5 with hyperparameters: {'lr0': 0.0097, 'lrf': 0.01087, 'momentum': 0.93198, 'weight_decay': 0.0005, 'warmup_epochs': 2.67052, 'warmup_momentum': 0.8, 'box': 7.36244, 'cls': 0.51897, 'dfl': 1.35109, 'hsv_h': 0.01623, 'hsv_s': 0.76854, 'hsv_v': 0.37349, 'degrees': 0.0, 'translate': 0.09651, 'scale': 0.52006, 'shear': 0.0, 'perspective': 0.0, 'flipud': 0.0, 'fliplr': 0.56075, 'mosaic': 0.91525, 'mixup': 0.0, 'copy_paste': 0.0}\n",
            "Saved runs/detect/tune/tune_scatter_plots.png\n",
            "Saved runs/detect/tune/tune_fitness.png\n",
            "\n",
            "\u001b[34m\u001b[1mTuner: \u001b[0m3/5 iterations complete ✅ (3663.23s)\n",
            "\u001b[34m\u001b[1mTuner: \u001b[0mResults saved to \u001b[1mruns/detect/tune\u001b[0m\n",
            "\u001b[34m\u001b[1mTuner: \u001b[0mBest fitness=0.87414 observed at iteration 2\n",
            "\u001b[34m\u001b[1mTuner: \u001b[0mBest fitness metrics are {'metrics/precision(B)': 0.99444, 'metrics/recall(B)': 0.99463, 'metrics/mAP50(B)': 0.99188, 'metrics/mAP50-95(B)': 0.86106, 'val/box_loss': 0.54636, 'val/cls_loss': 0.35555, 'val/dfl_loss': 0.79095, 'fitness': 0.87414}\n",
            "\u001b[34m\u001b[1mTuner: \u001b[0mBest fitness model is runs/detect/train3\n",
            "\u001b[34m\u001b[1mTuner: \u001b[0mBest fitness hyperparameters are printed below.\n",
            "\n",
            "Printing '\u001b[1m\u001b[30mruns/detect/tune/best_hyperparameters.yaml\u001b[0m'\n",
            "\n",
            "lr0: 0.01064\n",
            "lrf: 0.01\n",
            "momentum: 0.91926\n",
            "weight_decay: 0.00053\n",
            "warmup_epochs: 2.67052\n",
            "warmup_momentum: 0.8\n",
            "box: 7.21482\n",
            "cls: 0.48983\n",
            "dfl: 1.44136\n",
            "hsv_h: 0.01373\n",
            "hsv_s: 0.76175\n",
            "hsv_v: 0.41494\n",
            "degrees: 0.0\n",
            "translate: 0.09342\n",
            "scale: 0.52006\n",
            "shear: 0.0\n",
            "perspective: 0.0\n",
            "flipud: 0.0\n",
            "fliplr: 0.55142\n",
            "mosaic: 0.91525\n",
            "mixup: 0.0\n",
            "copy_paste: 0.0\n",
            "\n",
            "\u001b[34m\u001b[1mTuner: \u001b[0mStarting iteration 4/5 with hyperparameters: {'lr0': 0.0118, 'lrf': 0.01, 'momentum': 0.91926, 'weight_decay': 0.00054, 'warmup_epochs': 2.37548, 'warmup_momentum': 0.95, 'box': 4.83911, 'cls': 0.4554, 'dfl': 1.06188, 'hsv_h': 0.01373, 'hsv_s': 0.76175, 'hsv_v': 0.47689, 'degrees': 0.0, 'translate': 0.09342, 'scale': 0.52006, 'shear': 0.0, 'perspective': 0.0, 'flipud': 0.0, 'fliplr': 0.59782, 'mosaic': 0.91525, 'mixup': 0.0, 'copy_paste': 0.0}\n",
            "Saved runs/detect/tune/tune_scatter_plots.png\n",
            "Saved runs/detect/tune/tune_fitness.png\n",
            "\n",
            "\u001b[34m\u001b[1mTuner: \u001b[0m4/5 iterations complete ✅ (4881.18s)\n",
            "\u001b[34m\u001b[1mTuner: \u001b[0mResults saved to \u001b[1mruns/detect/tune\u001b[0m\n",
            "\u001b[34m\u001b[1mTuner: \u001b[0mBest fitness=0.87414 observed at iteration 2\n",
            "\u001b[34m\u001b[1mTuner: \u001b[0mBest fitness metrics are {'metrics/precision(B)': 0.99444, 'metrics/recall(B)': 0.99463, 'metrics/mAP50(B)': 0.99188, 'metrics/mAP50-95(B)': 0.86106, 'val/box_loss': 0.54636, 'val/cls_loss': 0.35555, 'val/dfl_loss': 0.79095, 'fitness': 0.87414}\n",
            "\u001b[34m\u001b[1mTuner: \u001b[0mBest fitness model is runs/detect/train3\n",
            "\u001b[34m\u001b[1mTuner: \u001b[0mBest fitness hyperparameters are printed below.\n",
            "\n",
            "Printing '\u001b[1m\u001b[30mruns/detect/tune/best_hyperparameters.yaml\u001b[0m'\n",
            "\n",
            "lr0: 0.01064\n",
            "lrf: 0.01\n",
            "momentum: 0.91926\n",
            "weight_decay: 0.00053\n",
            "warmup_epochs: 2.67052\n",
            "warmup_momentum: 0.8\n",
            "box: 7.21482\n",
            "cls: 0.48983\n",
            "dfl: 1.44136\n",
            "hsv_h: 0.01373\n",
            "hsv_s: 0.76175\n",
            "hsv_v: 0.41494\n",
            "degrees: 0.0\n",
            "translate: 0.09342\n",
            "scale: 0.52006\n",
            "shear: 0.0\n",
            "perspective: 0.0\n",
            "flipud: 0.0\n",
            "fliplr: 0.55142\n",
            "mosaic: 0.91525\n",
            "mixup: 0.0\n",
            "copy_paste: 0.0\n",
            "\n",
            "\u001b[34m\u001b[1mTuner: \u001b[0mStarting iteration 5/5 with hyperparameters: {'lr0': 0.01227, 'lrf': 0.00924, 'momentum': 0.91619, 'weight_decay': 0.00052, 'warmup_epochs': 2.67052, 'warmup_momentum': 0.88676, 'box': 8.17072, 'cls': 0.48495, 'dfl': 1.59046, 'hsv_h': 0.01348, 'hsv_s': 0.57993, 'hsv_v': 0.37152, 'degrees': 0.0, 'translate': 0.09342, 'scale': 0.54068, 'shear': 0.0, 'perspective': 0.0, 'flipud': 0.0, 'fliplr': 0.53401, 'mosaic': 0.77771, 'mixup': 0.0, 'copy_paste': 0.0}\n",
            "Saved runs/detect/tune/tune_scatter_plots.png\n",
            "Saved runs/detect/tune/tune_fitness.png\n",
            "\n",
            "\u001b[34m\u001b[1mTuner: \u001b[0m5/5 iterations complete ✅ (6062.49s)\n",
            "\u001b[34m\u001b[1mTuner: \u001b[0mResults saved to \u001b[1mruns/detect/tune\u001b[0m\n",
            "\u001b[34m\u001b[1mTuner: \u001b[0mBest fitness=0.87491 observed at iteration 5\n",
            "\u001b[34m\u001b[1mTuner: \u001b[0mBest fitness metrics are {'metrics/precision(B)': 0.99703, 'metrics/recall(B)': 0.99718, 'metrics/mAP50(B)': 0.99352, 'metrics/mAP50-95(B)': 0.86173, 'val/box_loss': 0.62024, 'val/cls_loss': 0.35988, 'val/dfl_loss': 0.87177, 'fitness': 0.87491}\n",
            "\u001b[34m\u001b[1mTuner: \u001b[0mBest fitness model is runs/detect/train6\n",
            "\u001b[34m\u001b[1mTuner: \u001b[0mBest fitness hyperparameters are printed below.\n",
            "\n",
            "Printing '\u001b[1m\u001b[30mruns/detect/tune/best_hyperparameters.yaml\u001b[0m'\n",
            "\n",
            "lr0: 0.01227\n",
            "lrf: 0.00924\n",
            "momentum: 0.91619\n",
            "weight_decay: 0.00052\n",
            "warmup_epochs: 2.67052\n",
            "warmup_momentum: 0.88676\n",
            "box: 8.17072\n",
            "cls: 0.48495\n",
            "dfl: 1.59046\n",
            "hsv_h: 0.01348\n",
            "hsv_s: 0.57993\n",
            "hsv_v: 0.37152\n",
            "degrees: 0.0\n",
            "translate: 0.09342\n",
            "scale: 0.54068\n",
            "shear: 0.0\n",
            "perspective: 0.0\n",
            "flipud: 0.0\n",
            "fliplr: 0.53401\n",
            "mosaic: 0.77771\n",
            "mixup: 0.0\n",
            "copy_paste: 0.0\n",
            "\n"
          ]
        }
      ]
    },
    {
      "cell_type": "markdown",
      "source": [
        "Overall, as the model was tuned over multiple trials and epochs, it seems some parameters were more impactful than others.\n",
        "\n",
        "In particular, the learning rates `lr0` and `lrf` were pivotal, affecting the pace at which the model adapts to the training data and refines its predictions. In addition, `momentum` and `weight_decay` played crucial roles in regulating the optimization process, influencing the model's ability to generalize and avoid overfitting."
      ],
      "metadata": {
        "id": "lzXXXrLiSt8Q"
      }
    },
    {
      "cell_type": "markdown",
      "source": [
        "## Evaluation"
      ],
      "metadata": {
        "id": "15VKmFotY9XN"
      }
    },
    {
      "cell_type": "markdown",
      "source": [
        "We can then evaluate our model using `.val()`, while using mAP."
      ],
      "metadata": {
        "id": "tKzyFHQxYINU"
      }
    },
    {
      "cell_type": "code",
      "source": [
        "metrics = model.val()"
      ],
      "metadata": {
        "colab": {
          "base_uri": "https://localhost:8080/"
        },
        "id": "_L2KsvFSZMpk",
        "outputId": "5c1fdbce-2c12-4928-9757-fecf6d30d988"
      },
      "execution_count": null,
      "outputs": [
        {
          "output_type": "stream",
          "name": "stdout",
          "text": [
            "Ultralytics YOLOv8.0.222 🚀 Python-3.10.12 torch-2.1.0+cu118 CUDA:0 (Tesla T4, 15102MiB)\n",
            "Model summary (fused): 168 layers, 3008573 parameters, 0 gradients, 8.1 GFLOPs\n"
          ]
        },
        {
          "output_type": "stream",
          "name": "stderr",
          "text": [
            "\u001b[34m\u001b[1mval: \u001b[0mScanning /content/datasets/Uno-Cards-1/valid/labels.cache... 1798 images, 0 backgrounds, 0 corrupt: 100%|██████████| 1798/1798 [00:00<?, ?it/s]\n",
            "                 Class     Images  Instances      Box(P          R      mAP50  mAP50-95): 100%|██████████| 113/113 [00:24<00:00,  4.62it/s]\n"
          ]
        },
        {
          "output_type": "stream",
          "name": "stdout",
          "text": [
            "                   all       1798       5394      0.997      0.997      0.993      0.857\n",
            "                     0       1798        370      0.999          1      0.995      0.891\n",
            "                     1       1798        374      0.999          1      0.995      0.856\n",
            "                    10       1798        346      0.998          1      0.995      0.843\n",
            "                    11       1798        367          1          1      0.995      0.866\n",
            "                    12       1798        353          1      0.999      0.995      0.857\n",
            "                    13       1798        340      0.965       0.96       0.96       0.71\n",
            "                    14       1798        374      0.994          1      0.995      0.854\n",
            "                     2       1798        368          1          1      0.995      0.869\n",
            "                     3       1798        374      0.999          1      0.995      0.884\n",
            "                     4       1798        351      0.999          1      0.995      0.866\n",
            "                     5       1798        359      0.999      0.997      0.995       0.88\n",
            "                     6       1798        352      0.998          1      0.995      0.869\n",
            "                     7       1798        359      0.999          1      0.995      0.861\n",
            "                     8       1798        322          1      0.999      0.995      0.889\n",
            "                     9       1798        385          1          1      0.995      0.867\n",
            "Speed: 0.3ms preprocess, 4.2ms inference, 0.0ms loss, 1.6ms postprocess per image\n",
            "Results saved to \u001b[1mruns/detect/train7\u001b[0m\n"
          ]
        }
      ]
    },
    {
      "cell_type": "code",
      "source": [
        "metrics.box.map"
      ],
      "metadata": {
        "colab": {
          "base_uri": "https://localhost:8080/"
        },
        "id": "80QcrKVpZQoP",
        "outputId": "44df410f-0230-4282-c8dd-bef46004e00a"
      },
      "execution_count": null,
      "outputs": [
        {
          "output_type": "execute_result",
          "data": {
            "text/plain": [
              "0.8574130023634795"
            ]
          },
          "metadata": {},
          "execution_count": 16
        }
      ]
    },
    {
      "cell_type": "markdown",
      "source": [
        "All of these mAP values seem to be very good, averaging around 0.995 for mAP50 and 0.85 for mAP50-95, which are close enough to the targetted value of 1 to be satisfiable."
      ],
      "metadata": {
        "id": "SZDVhoFXTqwT"
      }
    },
    {
      "cell_type": "markdown",
      "source": [
        "Finally, let's test our model against some sample images."
      ],
      "metadata": {
        "id": "vTAuDOcqZbGR"
      }
    },
    {
      "cell_type": "markdown",
      "source": [
        "![Sample hand](https://t4.ftcdn.net/jpg/04/06/19/57/360_F_406195743_pZ3WDozhsp4MzPCR3b0RCNlog5zXr8kX.jpg)"
      ],
      "metadata": {
        "id": "H6LVqybdZ9-B"
      }
    },
    {
      "cell_type": "code",
      "source": [
        "# Perform object detection on an image using the model\n",
        "image_path = 'https://t4.ftcdn.net/jpg/04/06/19/57/360_F_406195743_pZ3WDozhsp4MzPCR3b0RCNlog5zXr8kX.jpg'\n",
        "detection = model(image_path)"
      ],
      "metadata": {
        "colab": {
          "base_uri": "https://localhost:8080/"
        },
        "id": "OGuilI9RZGgT",
        "outputId": "2ff9f5e4-9b05-4713-a509-a7fca286959c"
      },
      "execution_count": null,
      "outputs": [
        {
          "output_type": "stream",
          "name": "stdout",
          "text": [
            "\n",
            "Found https://t4.ftcdn.net/jpg/04/06/19/57/360_F_406195743_pZ3WDozhsp4MzPCR3b0RCNlog5zXr8kX.jpg locally at 360_F_406195743_pZ3WDozhsp4MzPCR3b0RCNlog5zXr8kX.jpg\n",
            "image 1/1 /content/360_F_406195743_pZ3WDozhsp4MzPCR3b0RCNlog5zXr8kX.jpg: 448x640 1 10, 1 13, 1 3, 1 5, 1 8, 14.3ms\n",
            "Speed: 3.2ms preprocess, 14.3ms inference, 3.1ms postprocess per image at shape (1, 3, 448, 640)\n"
          ]
        }
      ]
    },
    {
      "cell_type": "code",
      "source": [
        "# Run inference\n",
        "model.predict(image_path, save=True)"
      ],
      "metadata": {
        "colab": {
          "base_uri": "https://localhost:8080/"
        },
        "id": "0fF98pxBRtk7",
        "outputId": "892ff83e-5704-43e9-d634-8c04384b987b"
      },
      "execution_count": null,
      "outputs": [
        {
          "output_type": "stream",
          "name": "stdout",
          "text": [
            "\n",
            "Found https://t4.ftcdn.net/jpg/04/06/19/57/360_F_406195743_pZ3WDozhsp4MzPCR3b0RCNlog5zXr8kX.jpg locally at 360_F_406195743_pZ3WDozhsp4MzPCR3b0RCNlog5zXr8kX.jpg\n",
            "image 1/1 /content/360_F_406195743_pZ3WDozhsp4MzPCR3b0RCNlog5zXr8kX.jpg: 448x640 1 10, 1 13, 1 3, 1 5, 1 8, 17.2ms\n",
            "Speed: 2.6ms preprocess, 17.2ms inference, 5.1ms postprocess per image at shape (1, 3, 448, 640)\n",
            "Results saved to \u001b[1mruns/detect/train8\u001b[0m\n"
          ]
        },
        {
          "output_type": "execute_result",
          "data": {
            "text/plain": [
              "[ultralytics.engine.results.Results object with attributes:\n",
              " \n",
              " boxes: ultralytics.engine.results.Boxes object\n",
              " keypoints: None\n",
              " masks: None\n",
              " names: {0: '0', 1: '1', 2: '10', 3: '11', 4: '12', 5: '13', 6: '14', 7: '2', 8: '3', 9: '4', 10: '5', 11: '6', 12: '7', 13: '8', 14: '9'}\n",
              " orig_img: array([[[139, 130, 150],\n",
              "         [139, 130, 150],\n",
              "         [139, 130, 150],\n",
              "         ...,\n",
              "         [203, 190, 198],\n",
              "         [204, 191, 199],\n",
              "         [204, 191, 199]],\n",
              " \n",
              "        [[139, 130, 150],\n",
              "         [139, 130, 150],\n",
              "         [139, 130, 150],\n",
              "         ...,\n",
              "         [203, 190, 198],\n",
              "         [203, 190, 198],\n",
              "         [204, 191, 199]],\n",
              " \n",
              "        [[138, 129, 149],\n",
              "         [138, 129, 149],\n",
              "         [138, 129, 149],\n",
              "         ...,\n",
              "         [202, 189, 197],\n",
              "         [203, 190, 198],\n",
              "         [203, 190, 198]],\n",
              " \n",
              "        ...,\n",
              " \n",
              "        [[143, 131, 149],\n",
              "         [144, 132, 150],\n",
              "         [144, 132, 150],\n",
              "         ...,\n",
              "         [142, 129, 143],\n",
              "         [142, 129, 143],\n",
              "         [142, 129, 143]],\n",
              " \n",
              "        [[142, 130, 148],\n",
              "         [143, 131, 149],\n",
              "         [144, 132, 150],\n",
              "         ...,\n",
              "         [141, 128, 142],\n",
              "         [141, 128, 142],\n",
              "         [141, 128, 142]],\n",
              " \n",
              "        [[141, 129, 147],\n",
              "         [142, 130, 148],\n",
              "         [143, 131, 149],\n",
              "         ...,\n",
              "         [141, 128, 142],\n",
              "         [141, 128, 142],\n",
              "         [141, 128, 142]]], dtype=uint8)\n",
              " orig_shape: (360, 540)\n",
              " path: '/content/360_F_406195743_pZ3WDozhsp4MzPCR3b0RCNlog5zXr8kX.jpg'\n",
              " probs: None\n",
              " save_dir: 'runs/detect/train8'\n",
              " speed: {'preprocess': 2.58636474609375, 'inference': 17.235994338989258, 'postprocess': 5.139589309692383}]"
            ]
          },
          "metadata": {},
          "execution_count": 21
        }
      ]
    },
    {
      "cell_type": "code",
      "source": [
        "from IPython.display import Image, display\n",
        "\n",
        "# Path to the output image file\n",
        "output_image = '/content/runs/detect/train8/360_F_406195743_pZ3WDozhsp4MzPCR3b0RCNlog5zXr8kX.jpg'\n",
        "\n",
        "# Display the output image\n",
        "display(Image(filename=output_image))"
      ],
      "metadata": {
        "colab": {
          "base_uri": "https://localhost:8080/",
          "height": 377
        },
        "id": "VN0W6u7aSB-j",
        "outputId": "6eb4a3b8-c560-481a-f906-37c37d5a8b2d"
      },
      "execution_count": null,
      "outputs": [
        {
          "output_type": "display_data",
          "data": {
            "image/jpeg": "[encoded data removed]",
            "text/plain": [
              "<IPython.core.display.Image object>"
            ]
          },
          "metadata": {}
        }
      ]
    },
    {
      "cell_type": "markdown",
      "source": [
        "All in all, the creation and tuning of our model was very smoothfoward using the built-in YOLO functions. The tuning function in particular was extremely handy in allowing us to hypertune without manual input, and although it took a significant amount of time, it was very much worth it as shown by the mAP values acquired.\n",
        "\n",
        "The only visible failure in our model can be seen in the last outputed image in which the blue 4 card was not detected. It is possible that the detection is limited in how many entities it can deal with, or the card angle was simply too unexpected for the model to handle. Future work could involve fixing these types of issues by exploring the capabilities of the YOLO prediction, and may also be fixed by including a dataset with more variation in terms of card positioning."
      ],
      "metadata": {
        "id": "OQQTehlqUSVa"
      }
    }
  ]
}