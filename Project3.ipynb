{
  "nbformat": 4,
  "nbformat_minor": 0,
  "metadata": {
    "colab": {
      "provenance": []
    },
    "kernelspec": {
      "name": "python3",
      "display_name": "Python 3"
    },
    "language_info": {
      "name": "python"
    }
  },
  "cells": [
    {
      "cell_type": "markdown",
      "source": [
        "# Project 3"
      ],
      "metadata": {
        "id": "engZXV1VFH0N"
      }
    },
    {
      "cell_type": "markdown",
      "source": [
        "## 1. Data Preparation"
      ],
      "metadata": {
        "id": "0f4DUsZSFL43"
      }
    },
    {
      "cell_type": "markdown",
      "source": [
        "### Import the Data"
      ],
      "metadata": {
        "id": "CrDe6nV_KR-c"
      }
    },
    {
      "cell_type": "markdown",
      "source": [
        "The data we are using is bulk data for individual Magic the Gathering cards throughout history. To access this data, we have locally downloaded a bulk data file in json formatting from `https://scryfall.com/docs/api/bulk-data`. The particular dataset we will be using is the `Oracle Cards` dataset, which contains the latest version of each card, thus preventing duplicate cards. Furthermore, this data is conveniently stored in a JSON file, and uncompressed only amounts to `126 MB`."
      ],
      "metadata": {
        "id": "bRbX9hk2FQaw"
      }
    },
    {
      "cell_type": "code",
      "execution_count": null,
      "metadata": {
        "id": "yOBnLS66E-pK",
        "colab": {
          "base_uri": "https://localhost:8080/",
          "height": 228
        },
        "outputId": "05468414-db68-42ea-f10f-707f965066ed"
      },
      "outputs": [
        {
          "output_type": "error",
          "ename": "FileNotFoundError",
          "evalue": "ignored",
          "traceback": [
            "\u001b[0;31m---------------------------------------------------------------------------\u001b[0m",
            "\u001b[0;31mFileNotFoundError\u001b[0m                         Traceback (most recent call last)",
            "\u001b[0;32m<ipython-input-1-7e5fd5865a07>\u001b[0m in \u001b[0;36m<cell line: 5>\u001b[0;34m()\u001b[0m\n\u001b[1;32m      3\u001b[0m \u001b[0;31m# Open and read local json\u001b[0m\u001b[0;34m\u001b[0m\u001b[0;34m\u001b[0m\u001b[0m\n\u001b[1;32m      4\u001b[0m \u001b[0mpath\u001b[0m \u001b[0;34m=\u001b[0m \u001b[0;34m'oracle-cards-20231009090140.json'\u001b[0m\u001b[0;34m\u001b[0m\u001b[0;34m\u001b[0m\u001b[0m\n\u001b[0;32m----> 5\u001b[0;31m \u001b[0;32mwith\u001b[0m \u001b[0mopen\u001b[0m\u001b[0;34m(\u001b[0m\u001b[0mpath\u001b[0m\u001b[0;34m,\u001b[0m \u001b[0;34m'r'\u001b[0m\u001b[0;34m)\u001b[0m \u001b[0;32mas\u001b[0m \u001b[0mjson_file\u001b[0m\u001b[0;34m:\u001b[0m\u001b[0;34m\u001b[0m\u001b[0;34m\u001b[0m\u001b[0m\n\u001b[0m\u001b[1;32m      6\u001b[0m     \u001b[0mdata\u001b[0m \u001b[0;34m=\u001b[0m \u001b[0mjson\u001b[0m\u001b[0;34m.\u001b[0m\u001b[0mload\u001b[0m\u001b[0;34m(\u001b[0m\u001b[0mjson_file\u001b[0m\u001b[0;34m)\u001b[0m\u001b[0;34m\u001b[0m\u001b[0;34m\u001b[0m\u001b[0m\n",
            "\u001b[0;31mFileNotFoundError\u001b[0m: [Errno 2] No such file or directory: 'oracle-cards-20231009090140.json'"
          ]
        }
      ],
      "source": [
        "import json\n",
        "\n",
        "# Open and read local json\n",
        "path = 'oracle-cards-20231009090140.json'\n",
        "with open(path, 'r') as json_file:\n",
        "    data = json.load(json_file)"
      ]
    },
    {
      "cell_type": "markdown",
      "source": [
        "### Store and Clean the Data"
      ],
      "metadata": {
        "id": "MjGAlUxQKZ11"
      }
    },
    {
      "cell_type": "markdown",
      "source": [
        "Let's clean the data a bit to make our lives easier. To do so we will remove the following cards:\n",
        "* **Non-normal layouts:** this includes cards like adventures and double-faced cards, which are essentially two cards in one. These may skew the data, so we will ignore them.\n",
        "* **Universes Beyond cards:** these are collaborative cards with other IPs (e.g. Warhammer, Lord of the Rings). These cards often add mechanics with unique keywords for cards.\n",
        "* **Un-sets:** these are joke sets and often have very wacky mechanics.\n",
        "* **Online sets:** these are sets that are only available online, and often feature inpracticle mechanics.\n",
        "* **Tokens:** these are game pieces that are introduced through other cards, and are not playable on their own."
      ],
      "metadata": {
        "id": "OB4JFKt0Oqtg"
      }
    },
    {
      "cell_type": "code",
      "source": [
        "# Specify the sets to be removed\n",
        "specified_sets = [\"40k\", \"who\", \"clb\", \"afr\", \"fj22\", \"fltr\"]\n",
        "specified_set_type = [\"funny\", \"memorabilia\"]\n",
        "\n",
        "# Filter out cards from the data\n",
        "data = [\n",
        "    card_data for card_data in data\n",
        "    if 'normal' in card_data.get('layout', [])                   # remove problematic layouts\n",
        "    and 'paper' in card_data.get('games', [])                    # remove non-paper cards (ie. online cards)\n",
        "    and card_data.get('layout', '') != 'token'                   # remove tokens\n",
        "    and card_data.get('set', '') not in specified_sets           # remove problematic sets\n",
        "    and card_data.get('set_type', '') not in specified_set_type  # remove problematic set types\n",
        "]"
      ],
      "metadata": {
        "id": "5Yll2NDxOlYE"
      },
      "execution_count": null,
      "outputs": []
    },
    {
      "cell_type": "markdown",
      "source": [
        "The data can now be stored by simply iterating over each card and storing the desired values."
      ],
      "metadata": {
        "id": "GK8C6mqEOetv"
      }
    },
    {
      "cell_type": "code",
      "source": [
        "# Initialize lists for ordered and possibly duplicated characteristics\n",
        "card_list = []\n",
        "all_oracle_text = []\n",
        "all_cmc = []\n",
        "all_card_types = []\n",
        "\n",
        "# Initialize sets for unordered and not duplicatable characteristics\n",
        "unique_cmc = set()\n",
        "unique_card_types = set()\n",
        "\n",
        "# Iterate through the JSON data to extract card information and collect unique set names, keywords, and oracle text\n",
        "for card_data in data:\n",
        "    card_info = {\n",
        "        'name': card_data.get('name', ''),                          # debugging\n",
        "        'oracle_text': card_data.get('oracle_text', ''),            # extact each card's oracle text\n",
        "        'cmc': card_data.get('cmc', 0),                             # extract the converted mana value as a float\n",
        "        'type': card_data.get('type_line', []).split(\" — \")[0],     # extract the main card type\n",
        "    }\n",
        "\n",
        "    # Update lists and sets\n",
        "    all_oracle_text.append(card_info['oracle_text'])\n",
        "    unique_cmc.update([card_info['cmc']])\n",
        "    all_cmc.append([card_info['cmc']])\n",
        "    unique_card_types.update([card_info['type']])\n",
        "    all_card_types.append([card_info['type']])\n",
        "\n",
        "    # Update the card information list\n",
        "    card_list.append(card_info)"
      ],
      "metadata": {
        "id": "8fmQnwIJFw1P"
      },
      "execution_count": null,
      "outputs": []
    },
    {
      "cell_type": "markdown",
      "source": [
        "Next, lets make sure to remove all new line characters `\\\\n` from the `oracle_text`."
      ],
      "metadata": {
        "id": "lu_82qcyOMq5"
      }
    },
    {
      "cell_type": "code",
      "source": [
        "# Iterate through card_list and replace '\\n' with a space in oracle_text\n",
        "for card_info in card_list:\n",
        "    card_info['oracle_text'] = card_info['oracle_text'].replace('\\n', ' ')"
      ],
      "metadata": {
        "id": "Kgh97b1QOcmS"
      },
      "execution_count": null,
      "outputs": []
    },
    {
      "cell_type": "markdown",
      "source": [
        "Another problem we may encounter is if there are multiple card types for a single card, such as `Legendary Creature`."
      ],
      "metadata": {
        "id": "dpqFMtEAIPVL"
      }
    },
    {
      "cell_type": "code",
      "source": [
        "print(unique_card_types)"
      ],
      "metadata": {
        "colab": {
          "base_uri": "https://localhost:8080/"
        },
        "id": "f-HTG2LCIO2N",
        "outputId": "a7c49f63-b422-42bf-da4e-0c2a1b741f04"
      },
      "execution_count": null,
      "outputs": [
        {
          "output_type": "stream",
          "name": "stdout",
          "text": [
            "{'Creature', 'Legendary Creature', 'Snow Artifact', 'Legendary Artifact Creature', 'Enchantment Creature', 'Tribal Artifact', 'Legendary Enchantment Artifact', 'Legendary Planeswalker', 'Legendary Snow Enchantment', 'Snow Land', 'Legendary Artifact', 'Legendary Snow Creature', 'Dungeon', 'Tribal Sorcery', 'Artifact', 'Snow Enchantment', 'Tribal Instant', 'Legendary Sorcery', 'Legendary Instant', 'Artifact Land', 'Instant', 'Snow Sorcery', 'Legendary Enchantment', 'Conspiracy', 'Legendary Snow Land', 'Snow Creature', 'Legendary Land', 'Token Artifact Creature', 'Card', 'Sorcery', 'Snow Instant', 'Artifact Creature', 'Basic Snow Land', 'Land', 'Snow Artifact Creature', 'Enchantment', 'Basic Land', 'Land Creature', 'Legendary Enchantment Creature', 'Tribal Enchantment', 'World Enchantment'}\n"
          ]
        }
      ]
    },
    {
      "cell_type": "markdown",
      "source": [
        "We can make our lives easier by just keeping the last listed card type, which is typically the primary card type. For example, `Legendary Creature` would just be `Creature`."
      ],
      "metadata": {
        "id": "pFzq5W3_IbZL"
      }
    },
    {
      "cell_type": "code",
      "source": [
        "# Declare a new set to stored unique card types for debugging\n",
        "modified_card_types = set()\n",
        "\n",
        "# Iterate through card_list and only keep the last type\n",
        "for card_info in card_list:\n",
        "    card_info['type'] = card_info['type'].split(' ')[-1]\n",
        "    modified_card_types.update([card_info['type']])\n",
        "\n",
        "# Print the modified list of unique card types\n",
        "print(modified_card_types)"
      ],
      "metadata": {
        "colab": {
          "base_uri": "https://localhost:8080/"
        },
        "id": "15fbYjCPItJ6",
        "outputId": "9cabf727-2d57-4f5c-db5f-a76cd4de019c"
      },
      "execution_count": null,
      "outputs": [
        {
          "output_type": "stream",
          "name": "stdout",
          "text": [
            "{'Creature', 'Planeswalker', 'Land', 'Dungeon', 'Artifact', 'Enchantment', 'Instant', 'Card', 'Sorcery', 'Conspiracy'}\n"
          ]
        }
      ]
    },
    {
      "cell_type": "markdown",
      "source": [
        "Let's print a random card as a test."
      ],
      "metadata": {
        "id": "eCqROG03NOym"
      }
    },
    {
      "cell_type": "code",
      "source": [
        "import random\n",
        "\n",
        "# Generate a random index within the range of card_list\n",
        "random_index = random.randint(0, len(card_list) - 1)\n",
        "\n",
        "# Retrieve the card information using the random index\n",
        "random_card = card_list[random_index]\n",
        "\n",
        "# Print information about the random card\n",
        "print(\"Random Card Information:\")\n",
        "print(\"Name:\", random_card['name'])\n",
        "print(\"CMC:\", random_card['cmc'])\n",
        "print(\"Type:\", random_card['type'])\n",
        "print(\"Oracle Text:\", random_card['oracle_text'])"
      ],
      "metadata": {
        "colab": {
          "base_uri": "https://localhost:8080/"
        },
        "id": "qbmdNAg3NfRI",
        "outputId": "abe208c8-b2e4-4c66-d102-4dd687de8b4d"
      },
      "execution_count": null,
      "outputs": [
        {
          "output_type": "stream",
          "name": "stdout",
          "text": [
            "Random Card Information:\n",
            "Name: Vivien's Arkbow\n",
            "CMC: 2.0\n",
            "Type: Artifact\n",
            "Oracle Text: {X}, {T}, Discard a card: Look at the top X cards of your library. You may put a creature card with mana value X or less from among them onto the battlefield. Put the rest on the bottom of your library in a random order.\n"
          ]
        }
      ]
    },
    {
      "cell_type": "markdown",
      "source": [
        "### Encoding and Splitting"
      ],
      "metadata": {
        "id": "bIwwUShQLsYm"
      }
    },
    {
      "cell_type": "markdown",
      "source": [
        "Before we feed our data into our neural network, we need to ensure the data is properly encoded. The `oracle_text` data will be tokenized in the model architecture, so we can ignore it for now. On the other hand, `type` needs to be one-hot encoded, which can be done with `LabelEncoder` given that each card has a unique label. We also need to declare the features and target values of our data, which will be the `oracle_text` and encoded `type` respectively."
      ],
      "metadata": {
        "id": "wEJig4WIMmCy"
      }
    },
    {
      "cell_type": "code",
      "source": [
        "from sklearn.preprocessing import LabelEncoder\n",
        "import numpy as np\n",
        "\n",
        "# Declare feature and target arrays\n",
        "X = []\n",
        "Y = []\n",
        "\n",
        "# Store target and features\n",
        "for card_info in card_list:\n",
        "    X.append(card_info['oracle_text'])\n",
        "    Y.append(card_info['type'])\n",
        "\n",
        "# Initialize LabelEncoder and fit the labels\n",
        "encoder = LabelEncoder()\n",
        "Y_encoded = encoder.fit_transform(Y)\n",
        "\n",
        "# Convert lists to arrays\n",
        "X = np.array(X)\n",
        "Y = Y_encoded"
      ],
      "metadata": {
        "id": "Jw82T4EYUae4"
      },
      "execution_count": null,
      "outputs": []
    },
    {
      "cell_type": "markdown",
      "source": [
        "Then we want to split our data using `train_test_split` into a 50|50 split."
      ],
      "metadata": {
        "id": "Y5eqgrTMSz5v"
      }
    },
    {
      "cell_type": "code",
      "source": [
        "from sklearn.model_selection import train_test_split\n",
        "\n",
        "# Split the dataset into training and testing sets\n",
        "trainX, testX, trainY, testY = train_test_split(X, Y, test_size=0.5, random_state=1)\n",
        "\n",
        "print(trainX.shape)\n",
        "print(testX.shape)\n",
        "print(trainY.shape)\n",
        "print(testY.shape)"
      ],
      "metadata": {
        "colab": {
          "base_uri": "https://localhost:8080/"
        },
        "id": "_WlJ5ZqKSpeg",
        "outputId": "0333a8b5-c83e-4ec8-d52c-b2e3858689e0"
      },
      "execution_count": null,
      "outputs": [
        {
          "output_type": "stream",
          "name": "stdout",
          "text": [
            "(11381,)\n",
            "(11381,)\n",
            "(11381,)\n",
            "(11381,)\n"
          ]
        }
      ]
    },
    {
      "cell_type": "markdown",
      "source": [
        "### Vectorization"
      ],
      "metadata": {
        "id": "NdmuDOpXKqeL"
      }
    },
    {
      "cell_type": "markdown",
      "source": [
        "Vectorization can be done using `TextVectorization`, in which the inputed string is converted into tokens, which are then fit to the text dataset."
      ],
      "metadata": {
        "id": "1b9WTyUOUMde"
      }
    },
    {
      "cell_type": "code",
      "source": [
        "from tensorflow.keras.layers.experimental.preprocessing import TextVectorization\n",
        "\n",
        "# create a TextVectorization layer to turn input string into a sequence of integers,\n",
        "# each representing one token\n",
        "maxTokens = 1000\n",
        "vectorizeLayer = TextVectorization(max_tokens = maxTokens,\n",
        "                                   output_mode = 'int',\n",
        "                                   output_sequence_length = 100)\n",
        "\n",
        "# adapt() fits the TextVectorization layer to our text dataset. This is when the\n",
        "# max_tokens most common words (i.e. the vocabulary) are selected.\n",
        "vectorizeLayer.adapt(trainX)"
      ],
      "metadata": {
        "id": "WbPJ68EtGfPO"
      },
      "execution_count": null,
      "outputs": []
    },
    {
      "cell_type": "markdown",
      "source": [
        "## 2. Benchmarking"
      ],
      "metadata": {
        "id": "6DjaX0v9Kh9s"
      }
    },
    {
      "cell_type": "markdown",
      "source": [
        "For our benchmarking, we'll be using logistic regression. This first requires that we vectorize our data. However, the previously used `TextVectorization` is not applicable here, so we have to use `TfidVectorizer` instead."
      ],
      "metadata": {
        "id": "sBrrIuI3Wi2j"
      }
    },
    {
      "cell_type": "code",
      "source": [
        "from sklearn.feature_extraction.text import TfidfVectorizer\n",
        "from sklearn.linear_model import LogisticRegression\n",
        "from sklearn.metrics import accuracy_score, classification_report\n",
        "\n",
        "# Initialize a TF-IDF Vectorizer\n",
        "tfidf_vectorizer = TfidfVectorizer(max_features=maxTokens)\n",
        "\n",
        "# Fit and transform the training data\n",
        "trainX_tfidf = tfidf_vectorizer.fit_transform(trainX)\n",
        "testX_tfidf = tfidf_vectorizer.transform(testX)\n",
        "\n",
        "# Initialize and fit a Logistic Regression model\n",
        "logistic_model = LogisticRegression(max_iter=1000)\n",
        "logistic_model.fit(trainX_tfidf, trainY)\n",
        "\n",
        "# Predict on the test set\n",
        "predictions = logistic_model.predict(testX_tfidf)\n",
        "\n",
        "# Calculate accuracy\n",
        "accuracy = accuracy_score(testY, predictions)\n",
        "print(f\"Accuracy: {accuracy:.4f}\")\n",
        "\n",
        "# Print classification report\n",
        "print(\"Classification Report:\")\n",
        "print(classification_report(testY, predictions))"
      ],
      "metadata": {
        "id": "Mz-8P-5hBhLu",
        "colab": {
          "base_uri": "https://localhost:8080/"
        },
        "outputId": "7596e73b-100b-4fd7-8713-9d4339c58ec5"
      },
      "execution_count": null,
      "outputs": [
        {
          "output_type": "stream",
          "name": "stdout",
          "text": [
            "Accuracy: 0.7624\n",
            "Classification Report:\n",
            "              precision    recall  f1-score   support\n",
            "\n",
            "           0       0.83      0.37      0.51       806\n",
            "           1       0.00      0.00      0.00         3\n",
            "           2       1.00      0.62      0.76        13\n",
            "           3       0.80      0.94      0.87      6155\n",
            "           4       0.00      0.00      0.00         2\n",
            "           5       0.82      0.56      0.66      1200\n",
            "           6       0.66      0.61      0.63      1445\n",
            "           7       0.76      0.59      0.67       361\n",
            "           8       0.90      0.23      0.36       115\n",
            "           9       0.59      0.61      0.60      1281\n",
            "\n",
            "    accuracy                           0.76     11381\n",
            "   macro avg       0.64      0.45      0.51     11381\n",
            "weighted avg       0.76      0.76      0.75     11381\n",
            "\n"
          ]
        },
        {
          "output_type": "stream",
          "name": "stderr",
          "text": [
            "/usr/local/lib/python3.10/dist-packages/sklearn/metrics/_classification.py:1344: UndefinedMetricWarning: Precision and F-score are ill-defined and being set to 0.0 in labels with no predicted samples. Use `zero_division` parameter to control this behavior.\n",
            "  _warn_prf(average, modifier, msg_start, len(result))\n",
            "/usr/local/lib/python3.10/dist-packages/sklearn/metrics/_classification.py:1344: UndefinedMetricWarning: Precision and F-score are ill-defined and being set to 0.0 in labels with no predicted samples. Use `zero_division` parameter to control this behavior.\n",
            "  _warn_prf(average, modifier, msg_start, len(result))\n",
            "/usr/local/lib/python3.10/dist-packages/sklearn/metrics/_classification.py:1344: UndefinedMetricWarning: Precision and F-score are ill-defined and being set to 0.0 in labels with no predicted samples. Use `zero_division` parameter to control this behavior.\n",
            "  _warn_prf(average, modifier, msg_start, len(result))\n"
          ]
        }
      ]
    },
    {
      "cell_type": "markdown",
      "source": [
        "## 3. Training and Tuning"
      ],
      "metadata": {
        "id": "pLduc52CUlf7"
      }
    },
    {
      "cell_type": "markdown",
      "source": [
        "### Base Model"
      ],
      "metadata": {
        "id": "CVcrEcnIPszh"
      }
    },
    {
      "cell_type": "code",
      "source": [
        "from tensorflow.keras import Input\n",
        "from tensorflow.keras.layers import Activation\n",
        "from tensorflow.keras.layers import Bidirectional\n",
        "from tensorflow.keras.layers import Conv1D\n",
        "from tensorflow.keras.layers import Dense\n",
        "from tensorflow.keras.layers import Dropout\n",
        "from tensorflow.keras.layers import Embedding\n",
        "from tensorflow.keras.layers import InputLayer\n",
        "from tensorflow.keras.layers import LSTM\n",
        "from tensorflow.keras.layers import MaxPooling1D\n",
        "from tensorflow.keras.layers import SimpleRNN\n",
        "from tensorflow.keras.models import Sequential"
      ],
      "metadata": {
        "id": "M1A1363zUvA1"
      },
      "execution_count": null,
      "outputs": []
    },
    {
      "cell_type": "code",
      "source": [
        "model = Sequential()\n",
        "\n",
        "model.add(Input(shape=(1,), dtype = 'string'))\n",
        "\n",
        "# add layer to the model\n",
        "model.add(vectorizeLayer)\n",
        "\n",
        "# add an embedding layer to turn integers into fixed-length vectors\n",
        "model.add(Embedding(maxTokens + 1, 128))\n",
        "\n",
        "# add a fully-connected recurrent layer\n",
        "model.add(LSTM(64))\n",
        "\n",
        "# add a dense layer\n",
        "model.add(Dense(64, activation = 'relu'))\n",
        "model.add(Dropout(0.5))\n",
        "\n",
        "# add softmax classifier\n",
        "num_classes = len(encoder.classes_)\n",
        "model.add(Dense(num_classes, activation='softmax'))"
      ],
      "metadata": {
        "id": "RLEtZQiqUDzQ"
      },
      "execution_count": null,
      "outputs": []
    },
    {
      "cell_type": "code",
      "source": [
        "model.compile(optimizer='adam', loss='sparse_categorical_crossentropy', metrics=['accuracy'])\n",
        "model.summary()"
      ],
      "metadata": {
        "colab": {
          "base_uri": "https://localhost:8080/"
        },
        "id": "6ksogQEoUmsg",
        "outputId": "d36f3c18-fc74-45a9-82e8-366b251b63fa"
      },
      "execution_count": null,
      "outputs": [
        {
          "output_type": "stream",
          "name": "stdout",
          "text": [
            "Model: \"sequential\"\n",
            "_________________________________________________________________\n",
            " Layer (type)                Output Shape              Param #   \n",
            "=================================================================\n",
            " text_vectorization (TextVe  (None, 100)               0         \n",
            " ctorization)                                                    \n",
            "                                                                 \n",
            " embedding (Embedding)       (None, 100, 128)          128128    \n",
            "                                                                 \n",
            " lstm (LSTM)                 (None, 64)                49408     \n",
            "                                                                 \n",
            " dense (Dense)               (None, 64)                4160      \n",
            "                                                                 \n",
            " dropout (Dropout)           (None, 64)                0         \n",
            "                                                                 \n",
            " dense_1 (Dense)             (None, 10)                650       \n",
            "                                                                 \n",
            "=================================================================\n",
            "Total params: 182346 (712.29 KB)\n",
            "Trainable params: 182346 (712.29 KB)\n",
            "Non-trainable params: 0 (0.00 Byte)\n",
            "_________________________________________________________________\n"
          ]
        }
      ]
    },
    {
      "cell_type": "code",
      "source": [
        "import matplotlib.pyplot as plt\n",
        "\n",
        "epochs = 10\n",
        "\n",
        "H = model.fit(trainX, trainY, validation_data = (testX, testY), epochs = epochs)\n",
        "\n",
        "plt.style.use('ggplot')\n",
        "plt.figure()\n",
        "plt.plot(np.arange(0, epochs), H.history['loss'], label = 'train_loss')\n",
        "plt.plot(np.arange(0, epochs), H.history['val_loss'], label = 'val_loss')\n",
        "plt.plot(np.arange(0, epochs), H.history['accuracy'], label = 'train_acc')\n",
        "plt.plot(np.arange(0, epochs), H.history['val_accuracy'], label = 'val_acc')\n",
        "\n",
        "# add labels and legend\n",
        "plt.title('Training Loss and Accuracy')\n",
        "plt.xlabel('Epoch #')\n",
        "plt.ylabel('Loss/Accuracy')\n",
        "plt.legend()"
      ],
      "metadata": {
        "colab": {
          "base_uri": "https://localhost:8080/",
          "height": 862
        },
        "id": "roCbSburU6nR",
        "outputId": "c1cef9d3-dcb5-4153-ea8b-e30b3fc9704f"
      },
      "execution_count": null,
      "outputs": [
        {
          "output_type": "stream",
          "name": "stdout",
          "text": [
            "Epoch 1/10\n",
            "356/356 [==============================] - 22s 36ms/step - loss: 1.5537 - accuracy: 0.5387 - val_loss: 1.4386 - val_accuracy: 0.5410\n",
            "Epoch 2/10\n",
            "356/356 [==============================] - 7s 20ms/step - loss: 1.4727 - accuracy: 0.5465 - val_loss: 1.4374 - val_accuracy: 0.5408\n",
            "Epoch 3/10\n",
            "356/356 [==============================] - 6s 16ms/step - loss: 1.4523 - accuracy: 0.5471 - val_loss: 1.4326 - val_accuracy: 0.5408\n",
            "Epoch 4/10\n",
            "356/356 [==============================] - 7s 21ms/step - loss: 1.4450 - accuracy: 0.5475 - val_loss: 1.4289 - val_accuracy: 0.5408\n",
            "Epoch 5/10\n",
            "356/356 [==============================] - 6s 17ms/step - loss: 1.4438 - accuracy: 0.5475 - val_loss: 1.4382 - val_accuracy: 0.5408\n",
            "Epoch 6/10\n",
            "356/356 [==============================] - 5s 14ms/step - loss: 1.4429 - accuracy: 0.5475 - val_loss: 1.4364 - val_accuracy: 0.5408\n",
            "Epoch 7/10\n",
            "356/356 [==============================] - 6s 17ms/step - loss: 1.4390 - accuracy: 0.5475 - val_loss: 1.4332 - val_accuracy: 0.5408\n",
            "Epoch 8/10\n",
            "356/356 [==============================] - 4s 12ms/step - loss: 1.4373 - accuracy: 0.5475 - val_loss: 1.4335 - val_accuracy: 0.5408\n",
            "Epoch 9/10\n",
            "356/356 [==============================] - 6s 16ms/step - loss: 1.4356 - accuracy: 0.5475 - val_loss: 1.4333 - val_accuracy: 0.5408\n",
            "Epoch 10/10\n",
            "356/356 [==============================] - 5s 15ms/step - loss: 1.4357 - accuracy: 0.5473 - val_loss: 1.4339 - val_accuracy: 0.5408\n"
          ]
        },
        {
          "output_type": "execute_result",
          "data": {
            "text/plain": [
              "<matplotlib.legend.Legend at 0x78725ef2d930>"
            ]
          },
          "metadata": {},
          "execution_count": 19
        },
        {
          "output_type": "display_data",
          "data": {
            "text/plain": [
              "<Figure size 640x480 with 1 Axes>"
            ],
            "image/png": "[encoded data removed]"
          },
          "metadata": {}
        }
      ]
    },
    {
      "cell_type": "code",
      "source": [
        "model.evaluate(testX, testY)"
      ],
      "metadata": {
        "colab": {
          "base_uri": "https://localhost:8080/"
        },
        "id": "YRbckFzOU8_2",
        "outputId": "b7d746b8-9ddf-4c1b-d66d-4eec35b94c28"
      },
      "execution_count": null,
      "outputs": [
        {
          "output_type": "stream",
          "name": "stdout",
          "text": [
            "356/356 [==============================] - 3s 9ms/step - loss: 1.4339 - accuracy: 0.5408\n"
          ]
        },
        {
          "output_type": "execute_result",
          "data": {
            "text/plain": [
              "[1.4339475631713867, 0.5408136248588562]"
            ]
          },
          "metadata": {},
          "execution_count": 20
        }
      ]
    },
    {
      "cell_type": "markdown",
      "source": [
        "The model seems pretty stagnat, but it's possible there simply aren't enough epochs to converge, so let's increase the number of epochs to 50."
      ],
      "metadata": {
        "id": "UtnJXxyamjTt"
      }
    },
    {
      "cell_type": "markdown",
      "source": [
        "### Additional Epochs"
      ],
      "metadata": {
        "id": "ve5jkTSDX9rI"
      }
    },
    {
      "cell_type": "code",
      "source": [
        "import matplotlib.pyplot as plt\n",
        "\n",
        "epochs = 50\n",
        "\n",
        "H = model.fit(trainX, trainY, validation_data = (testX, testY), epochs = epochs)\n",
        "\n",
        "plt.style.use('ggplot')\n",
        "plt.figure()\n",
        "plt.plot(np.arange(0, epochs), H.history['loss'], label = 'train_loss')\n",
        "plt.plot(np.arange(0, epochs), H.history['val_loss'], label = 'val_loss')\n",
        "plt.plot(np.arange(0, epochs), H.history['accuracy'], label = 'train_acc')\n",
        "plt.plot(np.arange(0, epochs), H.history['val_accuracy'], label = 'val_acc')\n",
        "\n",
        "# add labels and legend\n",
        "plt.title('Training Loss and Accuracy')\n",
        "plt.xlabel('Epoch #')\n",
        "plt.ylabel('Loss/Accuracy')\n",
        "plt.legend()"
      ],
      "metadata": {
        "colab": {
          "base_uri": "https://localhost:8080/",
          "height": 1000
        },
        "id": "mvkteI7YYZ39",
        "outputId": "fc69c2fe-43fa-44bb-9691-50088d5aa990"
      },
      "execution_count": null,
      "outputs": [
        {
          "output_type": "stream",
          "name": "stdout",
          "text": [
            "Epoch 1/50\n",
            "356/356 [==============================] - 6s 16ms/step - loss: 1.4334 - accuracy: 0.5475 - val_loss: 1.4354 - val_accuracy: 0.5408\n",
            "Epoch 2/50\n",
            "356/356 [==============================] - 5s 15ms/step - loss: 1.4352 - accuracy: 0.5475 - val_loss: 1.4342 - val_accuracy: 0.5408\n",
            "Epoch 3/50\n",
            "356/356 [==============================] - 6s 16ms/step - loss: 1.4336 - accuracy: 0.5475 - val_loss: 1.4336 - val_accuracy: 0.5408\n",
            "Epoch 4/50\n",
            "356/356 [==============================] - 4s 12ms/step - loss: 1.4313 - accuracy: 0.5475 - val_loss: 1.4341 - val_accuracy: 0.5408\n",
            "Epoch 5/50\n",
            "356/356 [==============================] - 4s 11ms/step - loss: 1.4263 - accuracy: 0.5476 - val_loss: 1.4346 - val_accuracy: 0.5408\n",
            "Epoch 6/50\n",
            "356/356 [==============================] - 5s 15ms/step - loss: 1.4312 - accuracy: 0.5475 - val_loss: 1.4342 - val_accuracy: 0.5408\n",
            "Epoch 7/50\n",
            "356/356 [==============================] - 4s 12ms/step - loss: 1.4132 - accuracy: 0.5473 - val_loss: 1.4122 - val_accuracy: 0.5408\n",
            "Epoch 8/50\n",
            "356/356 [==============================] - 4s 12ms/step - loss: 1.3923 - accuracy: 0.5475 - val_loss: 1.3970 - val_accuracy: 0.5408\n",
            "Epoch 9/50\n",
            "356/356 [==============================] - 6s 16ms/step - loss: 1.3764 - accuracy: 0.5474 - val_loss: 1.3681 - val_accuracy: 0.5410\n",
            "Epoch 10/50\n",
            "356/356 [==============================] - 4s 12ms/step - loss: 1.3388 - accuracy: 0.5493 - val_loss: 1.2985 - val_accuracy: 0.5431\n",
            "Epoch 11/50\n",
            "356/356 [==============================] - 6s 17ms/step - loss: 1.2763 - accuracy: 0.5552 - val_loss: 1.2483 - val_accuracy: 0.5524\n",
            "Epoch 12/50\n",
            "356/356 [==============================] - 5s 14ms/step - loss: 1.2238 - accuracy: 0.5771 - val_loss: 1.1978 - val_accuracy: 0.5784\n",
            "Epoch 13/50\n",
            "356/356 [==============================] - 4s 11ms/step - loss: 1.1796 - accuracy: 0.5870 - val_loss: 1.1908 - val_accuracy: 0.5849\n",
            "Epoch 14/50\n",
            "356/356 [==============================] - 4s 12ms/step - loss: 1.1617 - accuracy: 0.5942 - val_loss: 1.1353 - val_accuracy: 0.5879\n",
            "Epoch 15/50\n",
            "356/356 [==============================] - 6s 18ms/step - loss: 1.1301 - accuracy: 0.6062 - val_loss: 1.1079 - val_accuracy: 0.6047\n",
            "Epoch 16/50\n",
            "356/356 [==============================] - 4s 12ms/step - loss: 1.0878 - accuracy: 0.6105 - val_loss: 1.0515 - val_accuracy: 0.5971\n",
            "Epoch 17/50\n",
            "356/356 [==============================] - 5s 15ms/step - loss: 1.0546 - accuracy: 0.6208 - val_loss: 1.0084 - val_accuracy: 0.6473\n",
            "Epoch 18/50\n",
            "356/356 [==============================] - 5s 13ms/step - loss: 0.9656 - accuracy: 0.6570 - val_loss: 0.8133 - val_accuracy: 0.6904\n",
            "Epoch 19/50\n",
            "356/356 [==============================] - 4s 11ms/step - loss: 0.8223 - accuracy: 0.6919 - val_loss: 0.7390 - val_accuracy: 0.7151\n",
            "Epoch 20/50\n",
            "356/356 [==============================] - 5s 15ms/step - loss: 0.7388 - accuracy: 0.7122 - val_loss: 0.7037 - val_accuracy: 0.7229\n",
            "Epoch 21/50\n",
            "356/356 [==============================] - 4s 12ms/step - loss: 0.7045 - accuracy: 0.7272 - val_loss: 0.6848 - val_accuracy: 0.7133\n",
            "Epoch 22/50\n",
            "356/356 [==============================] - 4s 11ms/step - loss: 0.6675 - accuracy: 0.7256 - val_loss: 0.6804 - val_accuracy: 0.7306\n",
            "Epoch 23/50\n",
            "356/356 [==============================] - 6s 16ms/step - loss: 0.6224 - accuracy: 0.7369 - val_loss: 0.6063 - val_accuracy: 0.7253\n",
            "Epoch 24/50\n",
            "356/356 [==============================] - 4s 12ms/step - loss: 0.6033 - accuracy: 0.7472 - val_loss: 0.5920 - val_accuracy: 0.7606\n",
            "Epoch 25/50\n",
            "356/356 [==============================] - 4s 11ms/step - loss: 0.5503 - accuracy: 0.7663 - val_loss: 0.5728 - val_accuracy: 0.7670\n",
            "Epoch 26/50\n",
            "356/356 [==============================] - 5s 15ms/step - loss: 0.5255 - accuracy: 0.7680 - val_loss: 0.5917 - val_accuracy: 0.7582\n",
            "Epoch 27/50\n",
            "356/356 [==============================] - 5s 15ms/step - loss: 0.5027 - accuracy: 0.7736 - val_loss: 0.5418 - val_accuracy: 0.7687\n",
            "Epoch 28/50\n",
            "356/356 [==============================] - 5s 15ms/step - loss: 0.4774 - accuracy: 0.7773 - val_loss: 0.5550 - val_accuracy: 0.7673\n",
            "Epoch 29/50\n",
            "356/356 [==============================] - 5s 13ms/step - loss: 0.4699 - accuracy: 0.7766 - val_loss: 0.5405 - val_accuracy: 0.7560\n",
            "Epoch 30/50\n",
            "356/356 [==============================] - 5s 15ms/step - loss: 0.4483 - accuracy: 0.7897 - val_loss: 0.5632 - val_accuracy: 0.7675\n",
            "Epoch 31/50\n",
            "356/356 [==============================] - 6s 17ms/step - loss: 0.4385 - accuracy: 0.7881 - val_loss: 0.5298 - val_accuracy: 0.7566\n",
            "Epoch 32/50\n",
            "356/356 [==============================] - 4s 12ms/step - loss: 0.4325 - accuracy: 0.7864 - val_loss: 0.5433 - val_accuracy: 0.7709\n",
            "Epoch 33/50\n",
            "356/356 [==============================] - 4s 12ms/step - loss: 0.4176 - accuracy: 0.7935 - val_loss: 0.5572 - val_accuracy: 0.7781\n",
            "Epoch 34/50\n",
            "356/356 [==============================] - 6s 17ms/step - loss: 0.4027 - accuracy: 0.7966 - val_loss: 0.5693 - val_accuracy: 0.7638\n",
            "Epoch 35/50\n",
            "356/356 [==============================] - 4s 11ms/step - loss: 0.4160 - accuracy: 0.7960 - val_loss: 0.5679 - val_accuracy: 0.7698\n",
            "Epoch 36/50\n",
            "356/356 [==============================] - 4s 12ms/step - loss: 0.3899 - accuracy: 0.8041 - val_loss: 0.5950 - val_accuracy: 0.7708\n",
            "Epoch 37/50\n",
            "356/356 [==============================] - 5s 15ms/step - loss: 0.3836 - accuracy: 0.8094 - val_loss: 0.5644 - val_accuracy: 0.7718\n",
            "Epoch 38/50\n",
            "356/356 [==============================] - 5s 15ms/step - loss: 0.3690 - accuracy: 0.8084 - val_loss: 0.5805 - val_accuracy: 0.7639\n",
            "Epoch 39/50\n",
            "356/356 [==============================] - 5s 13ms/step - loss: 0.3618 - accuracy: 0.8118 - val_loss: 0.5415 - val_accuracy: 0.7781\n",
            "Epoch 40/50\n",
            "356/356 [==============================] - 6s 17ms/step - loss: 0.3561 - accuracy: 0.8106 - val_loss: 0.6097 - val_accuracy: 0.7723\n",
            "Epoch 41/50\n",
            "356/356 [==============================] - 4s 12ms/step - loss: 0.3461 - accuracy: 0.8150 - val_loss: 0.5848 - val_accuracy: 0.7665\n",
            "Epoch 42/50\n",
            "356/356 [==============================] - 5s 14ms/step - loss: 0.3478 - accuracy: 0.8134 - val_loss: 0.5755 - val_accuracy: 0.7569\n",
            "Epoch 43/50\n",
            "356/356 [==============================] - 4s 12ms/step - loss: 0.3495 - accuracy: 0.8194 - val_loss: 0.5556 - val_accuracy: 0.7723\n",
            "Epoch 44/50\n",
            "356/356 [==============================] - 4s 12ms/step - loss: 0.3318 - accuracy: 0.8230 - val_loss: 0.6239 - val_accuracy: 0.7671\n",
            "Epoch 45/50\n",
            "356/356 [==============================] - 5s 15ms/step - loss: 0.3152 - accuracy: 0.8316 - val_loss: 0.6215 - val_accuracy: 0.7810\n",
            "Epoch 46/50\n",
            "356/356 [==============================] - 4s 12ms/step - loss: 0.3188 - accuracy: 0.8273 - val_loss: 0.6452 - val_accuracy: 0.7824\n",
            "Epoch 47/50\n",
            "356/356 [==============================] - 4s 11ms/step - loss: 0.3237 - accuracy: 0.8274 - val_loss: 0.6127 - val_accuracy: 0.7810\n",
            "Epoch 48/50\n",
            "356/356 [==============================] - 6s 16ms/step - loss: 0.3100 - accuracy: 0.8365 - val_loss: 0.6175 - val_accuracy: 0.7740\n",
            "Epoch 49/50\n",
            "356/356 [==============================] - 4s 12ms/step - loss: 0.3161 - accuracy: 0.8302 - val_loss: 0.6497 - val_accuracy: 0.7781\n",
            "Epoch 50/50\n",
            "356/356 [==============================] - 4s 11ms/step - loss: 0.3245 - accuracy: 0.8295 - val_loss: 0.6445 - val_accuracy: 0.7817\n"
          ]
        },
        {
          "output_type": "execute_result",
          "data": {
            "text/plain": [
              "<matplotlib.legend.Legend at 0x78725ee7e8c0>"
            ]
          },
          "metadata": {},
          "execution_count": 21
        },
        {
          "output_type": "display_data",
          "data": {
            "text/plain": [
              "<Figure size 640x480 with 1 Axes>"
            ],
            "image/png": "[encoded data removed]"
          },
          "metadata": {}
        }
      ]
    },
    {
      "cell_type": "code",
      "source": [
        "model.evaluate(testX, testY)"
      ],
      "metadata": {
        "colab": {
          "base_uri": "https://localhost:8080/"
        },
        "id": "vXWdhNmFYpBE",
        "outputId": "1e48662b-b1b1-458a-eaa2-5f78e39b7c2a"
      },
      "execution_count": null,
      "outputs": [
        {
          "output_type": "stream",
          "name": "stdout",
          "text": [
            "356/356 [==============================] - 2s 6ms/step - loss: 0.6445 - accuracy: 0.7817\n"
          ]
        },
        {
          "output_type": "execute_result",
          "data": {
            "text/plain": [
              "[0.644487202167511, 0.781653642654419]"
            ]
          },
          "metadata": {},
          "execution_count": 22
        }
      ]
    },
    {
      "cell_type": "markdown",
      "source": [
        "At this point we see the model starting to reach a more stable point, however, there is definitely some overfitting so let's add some dropout."
      ],
      "metadata": {
        "id": "U9jR4oZHmaVx"
      }
    },
    {
      "cell_type": "markdown",
      "source": [
        "### Dropout"
      ],
      "metadata": {
        "id": "9ZDjf_zLZ9D_"
      }
    },
    {
      "cell_type": "code",
      "source": [
        "model = Sequential()\n",
        "\n",
        "model.add(Input(shape=(1,), dtype = 'string'))\n",
        "\n",
        "# add layer to the model\n",
        "model.add(vectorizeLayer)\n",
        "\n",
        "# add an embedding layer to turn integers into fixed-length vectors\n",
        "model.add(Embedding(maxTokens + 1, 128))\n",
        "\n",
        "# add a fully-connected recurrent layer\n",
        "model.add(LSTM(64))\n",
        "model.add(Dropout(0.5))\n",
        "\n",
        "# add a dense layer\n",
        "model.add(Dense(64, activation = 'relu'))\n",
        "model.add(Dropout(0.5))\n",
        "\n",
        "# add softmax classifier\n",
        "num_classes = len(encoder.classes_)\n",
        "model.add(Dense(num_classes, activation='softmax'))"
      ],
      "metadata": {
        "id": "s6mKFNgral0K"
      },
      "execution_count": null,
      "outputs": []
    },
    {
      "cell_type": "code",
      "source": [
        "model.compile(optimizer='adam', loss='sparse_categorical_crossentropy', metrics=['accuracy'])\n",
        "model.summary()"
      ],
      "metadata": {
        "colab": {
          "base_uri": "https://localhost:8080/"
        },
        "id": "5vOxHZiIa72M",
        "outputId": "ebc847e0-a2fc-4671-80ea-3c2e56db581c"
      },
      "execution_count": null,
      "outputs": [
        {
          "output_type": "stream",
          "name": "stdout",
          "text": [
            "Model: \"sequential_1\"\n",
            "_________________________________________________________________\n",
            " Layer (type)                Output Shape              Param #   \n",
            "=================================================================\n",
            " text_vectorization (TextVe  (None, 100)               0         \n",
            " ctorization)                                                    \n",
            "                                                                 \n",
            " embedding_1 (Embedding)     (None, 100, 128)          128128    \n",
            "                                                                 \n",
            " lstm_1 (LSTM)               (None, 64)                49408     \n",
            "                                                                 \n",
            " dropout_1 (Dropout)         (None, 64)                0         \n",
            "                                                                 \n",
            " dense_2 (Dense)             (None, 64)                4160      \n",
            "                                                                 \n",
            " dropout_2 (Dropout)         (None, 64)                0         \n",
            "                                                                 \n",
            " dense_3 (Dense)             (None, 10)                650       \n",
            "                                                                 \n",
            "=================================================================\n",
            "Total params: 182346 (712.29 KB)\n",
            "Trainable params: 182346 (712.29 KB)\n",
            "Non-trainable params: 0 (0.00 Byte)\n",
            "_________________________________________________________________\n"
          ]
        }
      ]
    },
    {
      "cell_type": "code",
      "source": [
        "import matplotlib.pyplot as plt\n",
        "\n",
        "epochs = 50\n",
        "\n",
        "H = model.fit(trainX, trainY, validation_data = (testX, testY), epochs = epochs)\n",
        "\n",
        "plt.style.use('ggplot')\n",
        "plt.figure()\n",
        "plt.plot(np.arange(0, epochs), H.history['loss'], label = 'train_loss')\n",
        "plt.plot(np.arange(0, epochs), H.history['val_loss'], label = 'val_loss')\n",
        "plt.plot(np.arange(0, epochs), H.history['accuracy'], label = 'train_acc')\n",
        "plt.plot(np.arange(0, epochs), H.history['val_accuracy'], label = 'val_acc')\n",
        "\n",
        "# add labels and legend\n",
        "plt.title('Training Loss and Accuracy')\n",
        "plt.xlabel('Epoch #')\n",
        "plt.ylabel('Loss/Accuracy')\n",
        "plt.legend()"
      ],
      "metadata": {
        "colab": {
          "base_uri": "https://localhost:8080/",
          "height": 1000
        },
        "id": "QOse56iha_vv",
        "outputId": "ea2777e3-f704-4dd4-ef2d-98dd43d59a35"
      },
      "execution_count": null,
      "outputs": [
        {
          "output_type": "stream",
          "name": "stdout",
          "text": [
            "Epoch 1/50\n",
            "356/356 [==============================] - 17s 38ms/step - loss: 1.5707 - accuracy: 0.5353 - val_loss: 1.4472 - val_accuracy: 0.5408\n",
            "Epoch 2/50\n",
            "356/356 [==============================] - 6s 16ms/step - loss: 1.4702 - accuracy: 0.5472 - val_loss: 1.4333 - val_accuracy: 0.5408\n",
            "Epoch 3/50\n",
            "356/356 [==============================] - 4s 13ms/step - loss: 1.4515 - accuracy: 0.5472 - val_loss: 1.4288 - val_accuracy: 0.5413\n",
            "Epoch 4/50\n",
            "356/356 [==============================] - 7s 19ms/step - loss: 1.4079 - accuracy: 0.5500 - val_loss: 1.3393 - val_accuracy: 0.5410\n",
            "Epoch 5/50\n",
            "356/356 [==============================] - 4s 13ms/step - loss: 1.3417 - accuracy: 0.5649 - val_loss: 1.2438 - val_accuracy: 0.5695\n",
            "Epoch 6/50\n",
            "356/356 [==============================] - 5s 15ms/step - loss: 1.2633 - accuracy: 0.5630 - val_loss: 1.2100 - val_accuracy: 0.5972\n",
            "Epoch 7/50\n",
            "356/356 [==============================] - 5s 15ms/step - loss: 1.2754 - accuracy: 0.6002 - val_loss: 1.2609 - val_accuracy: 0.6140\n",
            "Epoch 8/50\n",
            "356/356 [==============================] - 4s 12ms/step - loss: 1.2519 - accuracy: 0.6255 - val_loss: 1.1992 - val_accuracy: 0.6326\n",
            "Epoch 9/50\n",
            "356/356 [==============================] - 6s 16ms/step - loss: 1.2579 - accuracy: 0.6275 - val_loss: 1.2135 - val_accuracy: 0.6282\n",
            "Epoch 10/50\n",
            "356/356 [==============================] - 4s 12ms/step - loss: 1.2598 - accuracy: 0.6236 - val_loss: 1.2788 - val_accuracy: 0.6028\n",
            "Epoch 11/50\n",
            "356/356 [==============================] - 4s 12ms/step - loss: 1.2724 - accuracy: 0.6084 - val_loss: 1.2516 - val_accuracy: 0.6016\n",
            "Epoch 12/50\n",
            "356/356 [==============================] - 5s 15ms/step - loss: 1.2696 - accuracy: 0.6087 - val_loss: 1.2500 - val_accuracy: 0.6070\n",
            "Epoch 13/50\n",
            "356/356 [==============================] - 4s 12ms/step - loss: 1.2368 - accuracy: 0.6100 - val_loss: 1.1985 - val_accuracy: 0.6043\n",
            "Epoch 14/50\n",
            "356/356 [==============================] - 4s 12ms/step - loss: 1.2500 - accuracy: 0.6063 - val_loss: 1.2756 - val_accuracy: 0.5983\n",
            "Epoch 15/50\n",
            "356/356 [==============================] - 5s 15ms/step - loss: 1.3143 - accuracy: 0.5940 - val_loss: 1.3256 - val_accuracy: 0.5848\n",
            "Epoch 16/50\n",
            "356/356 [==============================] - 4s 12ms/step - loss: 1.3282 - accuracy: 0.5904 - val_loss: 1.3262 - val_accuracy: 0.5847\n",
            "Epoch 17/50\n",
            "356/356 [==============================] - 4s 12ms/step - loss: 1.3281 - accuracy: 0.5904 - val_loss: 1.3247 - val_accuracy: 0.5847\n",
            "Epoch 18/50\n",
            "356/356 [==============================] - 7s 19ms/step - loss: 1.3263 - accuracy: 0.5904 - val_loss: 1.3264 - val_accuracy: 0.5847\n",
            "Epoch 19/50\n",
            "356/356 [==============================] - 4s 12ms/step - loss: 1.3270 - accuracy: 0.5904 - val_loss: 1.3253 - val_accuracy: 0.5847\n",
            "Epoch 20/50\n",
            "356/356 [==============================] - 5s 15ms/step - loss: 1.3260 - accuracy: 0.5904 - val_loss: 1.3257 - val_accuracy: 0.5847\n",
            "Epoch 21/50\n",
            "356/356 [==============================] - 5s 13ms/step - loss: 1.3242 - accuracy: 0.5904 - val_loss: 1.3250 - val_accuracy: 0.5847\n",
            "Epoch 22/50\n",
            "356/356 [==============================] - 4s 12ms/step - loss: 1.3244 - accuracy: 0.5904 - val_loss: 1.3263 - val_accuracy: 0.5847\n",
            "Epoch 23/50\n",
            "356/356 [==============================] - 6s 17ms/step - loss: 1.3242 - accuracy: 0.5904 - val_loss: 1.3252 - val_accuracy: 0.5847\n",
            "Epoch 24/50\n",
            "356/356 [==============================] - 5s 15ms/step - loss: 1.3260 - accuracy: 0.5904 - val_loss: 1.3259 - val_accuracy: 0.5847\n",
            "Epoch 25/50\n",
            "356/356 [==============================] - 6s 15ms/step - loss: 1.3244 - accuracy: 0.5902 - val_loss: 1.3281 - val_accuracy: 0.5845\n",
            "Epoch 26/50\n",
            "356/356 [==============================] - 6s 16ms/step - loss: 1.3284 - accuracy: 0.5887 - val_loss: 1.3248 - val_accuracy: 0.5847\n",
            "Epoch 27/50\n",
            "356/356 [==============================] - 5s 15ms/step - loss: 1.3238 - accuracy: 0.5904 - val_loss: 1.3262 - val_accuracy: 0.5847\n",
            "Epoch 28/50\n",
            "356/356 [==============================] - 7s 19ms/step - loss: 1.3233 - accuracy: 0.5903 - val_loss: 1.3261 - val_accuracy: 0.5847\n",
            "Epoch 29/50\n",
            "356/356 [==============================] - 4s 12ms/step - loss: 1.3226 - accuracy: 0.5904 - val_loss: 1.3259 - val_accuracy: 0.5847\n",
            "Epoch 30/50\n",
            "356/356 [==============================] - 5s 15ms/step - loss: 1.3229 - accuracy: 0.5904 - val_loss: 1.3256 - val_accuracy: 0.5847\n",
            "Epoch 31/50\n",
            "356/356 [==============================] - 6s 15ms/step - loss: 1.3217 - accuracy: 0.5904 - val_loss: 1.3252 - val_accuracy: 0.5847\n",
            "Epoch 32/50\n",
            "356/356 [==============================] - 4s 12ms/step - loss: 1.3225 - accuracy: 0.5902 - val_loss: 1.3318 - val_accuracy: 0.5821\n",
            "Epoch 33/50\n",
            "356/356 [==============================] - 5s 15ms/step - loss: 1.4125 - accuracy: 0.5536 - val_loss: 1.4341 - val_accuracy: 0.5408\n",
            "Epoch 34/50\n",
            "356/356 [==============================] - 5s 15ms/step - loss: 1.4264 - accuracy: 0.5475 - val_loss: 1.4333 - val_accuracy: 0.5408\n",
            "Epoch 35/50\n",
            "356/356 [==============================] - 5s 15ms/step - loss: 1.4256 - accuracy: 0.5484 - val_loss: 1.4315 - val_accuracy: 0.5421\n",
            "Epoch 36/50\n",
            "356/356 [==============================] - 5s 13ms/step - loss: 1.4252 - accuracy: 0.5478 - val_loss: 1.4318 - val_accuracy: 0.5414\n",
            "Epoch 37/50\n",
            "356/356 [==============================] - 5s 15ms/step - loss: 1.4250 - accuracy: 0.5484 - val_loss: 1.4328 - val_accuracy: 0.5411\n",
            "Epoch 38/50\n",
            "356/356 [==============================] - 6s 17ms/step - loss: 1.4251 - accuracy: 0.5478 - val_loss: 1.4323 - val_accuracy: 0.5408\n",
            "Epoch 39/50\n",
            "356/356 [==============================] - 5s 15ms/step - loss: 1.4363 - accuracy: 0.5465 - val_loss: 1.3970 - val_accuracy: 0.5408\n",
            "Epoch 40/50\n",
            "356/356 [==============================] - 5s 15ms/step - loss: 1.3985 - accuracy: 0.5463 - val_loss: 1.4231 - val_accuracy: 0.5408\n",
            "Epoch 41/50\n",
            "356/356 [==============================] - 6s 16ms/step - loss: 1.4157 - accuracy: 0.5475 - val_loss: 1.4195 - val_accuracy: 0.5408\n",
            "Epoch 42/50\n",
            "356/356 [==============================] - 5s 15ms/step - loss: 1.4094 - accuracy: 0.5475 - val_loss: 1.4174 - val_accuracy: 0.5408\n",
            "Epoch 43/50\n",
            "356/356 [==============================] - 6s 18ms/step - loss: 1.4088 - accuracy: 0.5475 - val_loss: 1.4169 - val_accuracy: 0.5408\n",
            "Epoch 44/50\n",
            "356/356 [==============================] - 4s 12ms/step - loss: 1.4079 - accuracy: 0.5475 - val_loss: 1.4106 - val_accuracy: 0.5408\n",
            "Epoch 45/50\n",
            "356/356 [==============================] - 5s 13ms/step - loss: 1.4016 - accuracy: 0.5475 - val_loss: 1.4026 - val_accuracy: 0.5408\n",
            "Epoch 46/50\n",
            "356/356 [==============================] - 5s 13ms/step - loss: 1.3153 - accuracy: 0.5478 - val_loss: 1.1661 - val_accuracy: 0.5408\n",
            "Epoch 47/50\n",
            "356/356 [==============================] - 4s 12ms/step - loss: 1.1403 - accuracy: 0.5792 - val_loss: 1.0722 - val_accuracy: 0.6137\n",
            "Epoch 48/50\n",
            "356/356 [==============================] - 5s 14ms/step - loss: 1.0241 - accuracy: 0.6294 - val_loss: 0.9948 - val_accuracy: 0.6353\n",
            "Epoch 49/50\n",
            "356/356 [==============================] - 6s 17ms/step - loss: 0.9382 - accuracy: 0.6479 - val_loss: 0.8641 - val_accuracy: 0.6479\n",
            "Epoch 50/50\n",
            "356/356 [==============================] - 5s 15ms/step - loss: 0.8040 - accuracy: 0.6710 - val_loss: 0.7993 - val_accuracy: 0.6789\n"
          ]
        },
        {
          "output_type": "execute_result",
          "data": {
            "text/plain": [
              "<matplotlib.legend.Legend at 0x78725ea0c100>"
            ]
          },
          "metadata": {},
          "execution_count": 25
        },
        {
          "output_type": "display_data",
          "data": {
            "text/plain": [
              "<Figure size 640x480 with 1 Axes>"
            ],
            "image/png": "[encoded data removed]"
          },
          "metadata": {}
        }
      ]
    },
    {
      "cell_type": "code",
      "source": [
        "model.evaluate(testX, testY)"
      ],
      "metadata": {
        "colab": {
          "base_uri": "https://localhost:8080/"
        },
        "id": "EZRgYdE8bDig",
        "outputId": "f5701975-d342-4d00-f9c9-345a3c869079"
      },
      "execution_count": null,
      "outputs": [
        {
          "output_type": "stream",
          "name": "stdout",
          "text": [
            "356/356 [==============================] - 3s 8ms/step - loss: 0.7993 - accuracy: 0.6789\n"
          ]
        },
        {
          "output_type": "execute_result",
          "data": {
            "text/plain": [
              "[0.7993366122245789, 0.6789385676383972]"
            ]
          },
          "metadata": {},
          "execution_count": 26
        }
      ]
    },
    {
      "cell_type": "code",
      "source": [],
      "metadata": {
        "id": "Cr0ZDPPynBvo"
      },
      "execution_count": null,
      "outputs": []
    },
    {
      "cell_type": "markdown",
      "source": [
        "### Dropout epochs 100"
      ],
      "metadata": {
        "id": "aJl11FljnB8h"
      }
    },
    {
      "cell_type": "code",
      "source": [
        "model = Sequential()\n",
        "\n",
        "model.add(Input(shape=(1,), dtype = 'string'))\n",
        "\n",
        "# add layer to the model\n",
        "model.add(vectorizeLayer)\n",
        "\n",
        "# add an embedding layer to turn integers into fixed-length vectors\n",
        "model.add(Embedding(maxTokens + 1, 128))\n",
        "\n",
        "# add a fully-connected recurrent layer\n",
        "model.add(LSTM(64))\n",
        "model.add(Dropout(0.5))\n",
        "\n",
        "# add a dense layer\n",
        "model.add(Dense(64, activation = 'relu'))\n",
        "model.add(Dropout(0.5))\n",
        "\n",
        "# add softmax classifier\n",
        "num_classes = len(encoder.classes_)\n",
        "model.add(Dense(num_classes, activation='softmax'))"
      ],
      "metadata": {
        "id": "ZwRmFt7qnB8i"
      },
      "execution_count": null,
      "outputs": []
    },
    {
      "cell_type": "code",
      "source": [
        "model.compile(optimizer='adam', loss='sparse_categorical_crossentropy', metrics=['accuracy'])\n",
        "model.summary()"
      ],
      "metadata": {
        "colab": {
          "base_uri": "https://localhost:8080/"
        },
        "outputId": "64458254-83d5-4406-ed3e-86a442716571",
        "id": "ZR5J_MMynB8i"
      },
      "execution_count": null,
      "outputs": [
        {
          "output_type": "stream",
          "name": "stdout",
          "text": [
            "Model: \"sequential_8\"\n",
            "_________________________________________________________________\n",
            " Layer (type)                Output Shape              Param #   \n",
            "=================================================================\n",
            " text_vectorization (TextVe  (None, 100)               0         \n",
            " ctorization)                                                    \n",
            "                                                                 \n",
            " embedding_8 (Embedding)     (None, 100, 128)          128128    \n",
            "                                                                 \n",
            " lstm_8 (LSTM)               (None, 64)                49408     \n",
            "                                                                 \n",
            " dropout_13 (Dropout)        (None, 64)                0         \n",
            "                                                                 \n",
            " dense_16 (Dense)            (None, 64)                4160      \n",
            "                                                                 \n",
            " dropout_14 (Dropout)        (None, 64)                0         \n",
            "                                                                 \n",
            " dense_17 (Dense)            (None, 10)                650       \n",
            "                                                                 \n",
            "=================================================================\n",
            "Total params: 182346 (712.29 KB)\n",
            "Trainable params: 182346 (712.29 KB)\n",
            "Non-trainable params: 0 (0.00 Byte)\n",
            "_________________________________________________________________\n"
          ]
        }
      ]
    },
    {
      "cell_type": "code",
      "source": [
        "import matplotlib.pyplot as plt\n",
        "\n",
        "epochs = 100\n",
        "\n",
        "H = model.fit(trainX, trainY, validation_data = (testX, testY), epochs = epochs)\n",
        "\n",
        "plt.style.use('ggplot')\n",
        "plt.figure()\n",
        "plt.plot(np.arange(0, epochs), H.history['loss'], label = 'train_loss')\n",
        "plt.plot(np.arange(0, epochs), H.history['val_loss'], label = 'val_loss')\n",
        "plt.plot(np.arange(0, epochs), H.history['accuracy'], label = 'train_acc')\n",
        "plt.plot(np.arange(0, epochs), H.history['val_accuracy'], label = 'val_acc')\n",
        "\n",
        "# add labels and legend\n",
        "plt.title('Training Loss and Accuracy')\n",
        "plt.xlabel('Epoch #')\n",
        "plt.ylabel('Loss/Accuracy')\n",
        "plt.legend()"
      ],
      "metadata": {
        "colab": {
          "base_uri": "https://localhost:8080/",
          "height": 1000
        },
        "outputId": "32327810-a042-4d57-d5ac-99b3f83fa0bf",
        "id": "ejCzzANWnB8i"
      },
      "execution_count": null,
      "outputs": [
        {
          "output_type": "stream",
          "name": "stdout",
          "text": [
            "Epoch 1/100\n",
            "356/356 [==============================] - 16s 39ms/step - loss: 1.5624 - accuracy: 0.5345 - val_loss: 1.4407 - val_accuracy: 0.5408\n",
            "Epoch 2/100\n",
            "356/356 [==============================] - 6s 17ms/step - loss: 1.4687 - accuracy: 0.5472 - val_loss: 1.4341 - val_accuracy: 0.5408\n",
            "Epoch 3/100\n",
            "356/356 [==============================] - 5s 14ms/step - loss: 1.4551 - accuracy: 0.5473 - val_loss: 1.4350 - val_accuracy: 0.5408\n",
            "Epoch 4/100\n",
            "356/356 [==============================] - 6s 16ms/step - loss: 1.4375 - accuracy: 0.5474 - val_loss: 1.4382 - val_accuracy: 0.5408\n",
            "Epoch 5/100\n",
            "356/356 [==============================] - 7s 19ms/step - loss: 1.4451 - accuracy: 0.5475 - val_loss: 1.4395 - val_accuracy: 0.5408\n",
            "Epoch 6/100\n",
            "356/356 [==============================] - 5s 15ms/step - loss: 1.4440 - accuracy: 0.5475 - val_loss: 1.4333 - val_accuracy: 0.5408\n",
            "Epoch 7/100\n",
            "356/356 [==============================] - 5s 14ms/step - loss: 1.4386 - accuracy: 0.5475 - val_loss: 1.4333 - val_accuracy: 0.5408\n",
            "Epoch 8/100\n",
            "356/356 [==============================] - 4s 12ms/step - loss: 1.4341 - accuracy: 0.5475 - val_loss: 1.4343 - val_accuracy: 0.5408\n",
            "Epoch 9/100\n",
            "356/356 [==============================] - 5s 15ms/step - loss: 1.4344 - accuracy: 0.5475 - val_loss: 1.4337 - val_accuracy: 0.5408\n",
            "Epoch 10/100\n",
            "356/356 [==============================] - 6s 18ms/step - loss: 1.4326 - accuracy: 0.5475 - val_loss: 1.4334 - val_accuracy: 0.5408\n",
            "Epoch 11/100\n",
            "356/356 [==============================] - 4s 12ms/step - loss: 1.4294 - accuracy: 0.5478 - val_loss: 1.4336 - val_accuracy: 0.5408\n",
            "Epoch 12/100\n",
            "356/356 [==============================] - 4s 11ms/step - loss: 1.4351 - accuracy: 0.5475 - val_loss: 1.4346 - val_accuracy: 0.5408\n",
            "Epoch 13/100\n",
            "356/356 [==============================] - 5s 15ms/step - loss: 1.4294 - accuracy: 0.5475 - val_loss: 1.4342 - val_accuracy: 0.5408\n",
            "Epoch 14/100\n",
            "356/356 [==============================] - 4s 12ms/step - loss: 1.4288 - accuracy: 0.5476 - val_loss: 1.4335 - val_accuracy: 0.5408\n",
            "Epoch 15/100\n",
            "356/356 [==============================] - 4s 13ms/step - loss: 1.4308 - accuracy: 0.5475 - val_loss: 1.4361 - val_accuracy: 0.5408\n",
            "Epoch 16/100\n",
            "356/356 [==============================] - 5s 15ms/step - loss: 1.4288 - accuracy: 0.5476 - val_loss: 1.4342 - val_accuracy: 0.5408\n",
            "Epoch 17/100\n",
            "356/356 [==============================] - 5s 15ms/step - loss: 1.4296 - accuracy: 0.5476 - val_loss: 1.4333 - val_accuracy: 0.5408\n",
            "Epoch 18/100\n",
            "356/356 [==============================] - 5s 14ms/step - loss: 1.4295 - accuracy: 0.5475 - val_loss: 1.4335 - val_accuracy: 0.5408\n",
            "Epoch 19/100\n",
            "356/356 [==============================] - 5s 13ms/step - loss: 1.4288 - accuracy: 0.5475 - val_loss: 1.4340 - val_accuracy: 0.5408\n",
            "Epoch 20/100\n",
            "356/356 [==============================] - 5s 15ms/step - loss: 1.4288 - accuracy: 0.5476 - val_loss: 1.4335 - val_accuracy: 0.5408\n",
            "Epoch 21/100\n",
            "356/356 [==============================] - 5s 15ms/step - loss: 1.4278 - accuracy: 0.5476 - val_loss: 1.4336 - val_accuracy: 0.5408\n",
            "Epoch 22/100\n",
            "356/356 [==============================] - 4s 12ms/step - loss: 1.4259 - accuracy: 0.5475 - val_loss: 1.4340 - val_accuracy: 0.5408\n",
            "Epoch 23/100\n",
            "356/356 [==============================] - 5s 15ms/step - loss: 1.4253 - accuracy: 0.5476 - val_loss: 1.4342 - val_accuracy: 0.5408\n",
            "Epoch 24/100\n",
            "356/356 [==============================] - 6s 18ms/step - loss: 1.4268 - accuracy: 0.5477 - val_loss: 1.4329 - val_accuracy: 0.5408\n",
            "Epoch 25/100\n",
            "356/356 [==============================] - 4s 12ms/step - loss: 1.4262 - accuracy: 0.5476 - val_loss: 1.4324 - val_accuracy: 0.5408\n",
            "Epoch 26/100\n",
            "356/356 [==============================] - 5s 15ms/step - loss: 1.4263 - accuracy: 0.5477 - val_loss: 1.4269 - val_accuracy: 0.5408\n",
            "Epoch 27/100\n",
            "356/356 [==============================] - 5s 13ms/step - loss: 1.4272 - accuracy: 0.5471 - val_loss: 1.4328 - val_accuracy: 0.5408\n",
            "Epoch 28/100\n",
            "356/356 [==============================] - 4s 12ms/step - loss: 1.4252 - accuracy: 0.5476 - val_loss: 1.4328 - val_accuracy: 0.5408\n",
            "Epoch 29/100\n",
            "356/356 [==============================] - 5s 15ms/step - loss: 1.3976 - accuracy: 0.5478 - val_loss: 1.2980 - val_accuracy: 0.5408\n",
            "Epoch 30/100\n",
            "356/356 [==============================] - 6s 16ms/step - loss: 1.2932 - accuracy: 0.5819 - val_loss: 1.2615 - val_accuracy: 0.6008\n",
            "Epoch 31/100\n",
            "356/356 [==============================] - 4s 12ms/step - loss: 1.2237 - accuracy: 0.5992 - val_loss: 1.2040 - val_accuracy: 0.6121\n",
            "Epoch 32/100\n",
            "356/356 [==============================] - 5s 15ms/step - loss: 1.1313 - accuracy: 0.6188 - val_loss: 0.9970 - val_accuracy: 0.6245\n",
            "Epoch 33/100\n",
            "356/356 [==============================] - 5s 14ms/step - loss: 0.9566 - accuracy: 0.6325 - val_loss: 0.8478 - val_accuracy: 0.6448\n",
            "Epoch 34/100\n",
            "356/356 [==============================] - 5s 15ms/step - loss: 0.8538 - accuracy: 0.6446 - val_loss: 0.7994 - val_accuracy: 0.6780\n",
            "Epoch 35/100\n",
            "356/356 [==============================] - 5s 13ms/step - loss: 0.7739 - accuracy: 0.6833 - val_loss: 0.7148 - val_accuracy: 0.7124\n",
            "Epoch 36/100\n",
            "356/356 [==============================] - 5s 15ms/step - loss: 0.6565 - accuracy: 0.7124 - val_loss: 0.6377 - val_accuracy: 0.7163\n",
            "Epoch 37/100\n",
            "356/356 [==============================] - 5s 15ms/step - loss: 0.5992 - accuracy: 0.7289 - val_loss: 0.6180 - val_accuracy: 0.7414\n",
            "Epoch 38/100\n",
            "356/356 [==============================] - 4s 12ms/step - loss: 0.5484 - accuracy: 0.7505 - val_loss: 0.5806 - val_accuracy: 0.7510\n",
            "Epoch 39/100\n",
            "356/356 [==============================] - 5s 15ms/step - loss: 0.5305 - accuracy: 0.7624 - val_loss: 0.5922 - val_accuracy: 0.7625\n",
            "Epoch 40/100\n",
            "356/356 [==============================] - 5s 15ms/step - loss: 0.4843 - accuracy: 0.7758 - val_loss: 0.5631 - val_accuracy: 0.7700\n",
            "Epoch 41/100\n",
            "356/356 [==============================] - 5s 15ms/step - loss: 0.4624 - accuracy: 0.7835 - val_loss: 0.5586 - val_accuracy: 0.7547\n",
            "Epoch 42/100\n",
            "356/356 [==============================] - 5s 15ms/step - loss: 0.4680 - accuracy: 0.7767 - val_loss: 0.5850 - val_accuracy: 0.7497\n",
            "Epoch 43/100\n",
            "356/356 [==============================] - 4s 12ms/step - loss: 0.4448 - accuracy: 0.7869 - val_loss: 0.5855 - val_accuracy: 0.7695\n",
            "Epoch 44/100\n",
            "356/356 [==============================] - 5s 15ms/step - loss: 0.4203 - accuracy: 0.7982 - val_loss: 0.5820 - val_accuracy: 0.7576\n",
            "Epoch 45/100\n",
            "356/356 [==============================] - 6s 18ms/step - loss: 0.4058 - accuracy: 0.8045 - val_loss: 0.5891 - val_accuracy: 0.7773\n",
            "Epoch 46/100\n",
            "356/356 [==============================] - 5s 15ms/step - loss: 0.4028 - accuracy: 0.8086 - val_loss: 0.5616 - val_accuracy: 0.7679\n",
            "Epoch 47/100\n",
            "356/356 [==============================] - 5s 13ms/step - loss: 0.3870 - accuracy: 0.8047 - val_loss: 0.5521 - val_accuracy: 0.7709\n",
            "Epoch 48/100\n",
            "356/356 [==============================] - 5s 13ms/step - loss: 0.3804 - accuracy: 0.8106 - val_loss: 0.5691 - val_accuracy: 0.7771\n",
            "Epoch 49/100\n",
            "356/356 [==============================] - 4s 12ms/step - loss: 0.3713 - accuracy: 0.8231 - val_loss: 0.5575 - val_accuracy: 0.7832\n",
            "Epoch 50/100\n",
            "356/356 [==============================] - 5s 14ms/step - loss: 0.3639 - accuracy: 0.8216 - val_loss: 0.5700 - val_accuracy: 0.7776\n",
            "Epoch 51/100\n",
            "356/356 [==============================] - 5s 13ms/step - loss: 0.3515 - accuracy: 0.8293 - val_loss: 0.6630 - val_accuracy: 0.7878\n",
            "Epoch 52/100\n",
            "356/356 [==============================] - 5s 15ms/step - loss: 0.3412 - accuracy: 0.8360 - val_loss: 0.6363 - val_accuracy: 0.7800\n",
            "Epoch 53/100\n",
            "356/356 [==============================] - 5s 15ms/step - loss: 0.3362 - accuracy: 0.8411 - val_loss: 0.6223 - val_accuracy: 0.7923\n",
            "Epoch 54/100\n",
            "356/356 [==============================] - 4s 12ms/step - loss: 0.3312 - accuracy: 0.8474 - val_loss: 0.6601 - val_accuracy: 0.7905\n",
            "Epoch 55/100\n",
            "356/356 [==============================] - 4s 12ms/step - loss: 0.3288 - accuracy: 0.8585 - val_loss: 0.5854 - val_accuracy: 0.7938\n",
            "Epoch 56/100\n",
            "356/356 [==============================] - 5s 15ms/step - loss: 0.3190 - accuracy: 0.8605 - val_loss: 0.6307 - val_accuracy: 0.7962\n",
            "Epoch 57/100\n",
            "356/356 [==============================] - 4s 12ms/step - loss: 0.3023 - accuracy: 0.8642 - val_loss: 0.7344 - val_accuracy: 0.7925\n",
            "Epoch 58/100\n",
            "356/356 [==============================] - 5s 15ms/step - loss: 0.3126 - accuracy: 0.8650 - val_loss: 0.6717 - val_accuracy: 0.8032\n",
            "Epoch 59/100\n",
            "356/356 [==============================] - 6s 18ms/step - loss: 0.2989 - accuracy: 0.8727 - val_loss: 0.7153 - val_accuracy: 0.8045\n",
            "Epoch 60/100\n",
            "356/356 [==============================] - 5s 15ms/step - loss: 0.2939 - accuracy: 0.8766 - val_loss: 0.6951 - val_accuracy: 0.8014\n",
            "Epoch 61/100\n",
            "356/356 [==============================] - 5s 15ms/step - loss: 0.2755 - accuracy: 0.8876 - val_loss: 0.6854 - val_accuracy: 0.8070\n",
            "Epoch 62/100\n",
            "356/356 [==============================] - 4s 12ms/step - loss: 0.2794 - accuracy: 0.8896 - val_loss: 0.6146 - val_accuracy: 0.8030\n",
            "Epoch 63/100\n",
            "356/356 [==============================] - 4s 11ms/step - loss: 0.2733 - accuracy: 0.8922 - val_loss: 0.5940 - val_accuracy: 0.8114\n",
            "Epoch 64/100\n",
            "356/356 [==============================] - 6s 17ms/step - loss: 0.2737 - accuracy: 0.8935 - val_loss: 0.5964 - val_accuracy: 0.8088\n",
            "Epoch 65/100\n",
            "356/356 [==============================] - 5s 15ms/step - loss: 0.2753 - accuracy: 0.8951 - val_loss: 0.6540 - val_accuracy: 0.8171\n",
            "Epoch 66/100\n",
            "356/356 [==============================] - 4s 12ms/step - loss: 0.2524 - accuracy: 0.9066 - val_loss: 0.6872 - val_accuracy: 0.8158\n",
            "Epoch 67/100\n",
            "356/356 [==============================] - 5s 14ms/step - loss: 0.2455 - accuracy: 0.9087 - val_loss: 0.6479 - val_accuracy: 0.8121\n",
            "Epoch 68/100\n",
            "356/356 [==============================] - 4s 12ms/step - loss: 0.2390 - accuracy: 0.9126 - val_loss: 0.7304 - val_accuracy: 0.8150\n",
            "Epoch 69/100\n",
            "356/356 [==============================] - 5s 15ms/step - loss: 0.2356 - accuracy: 0.9147 - val_loss: 0.6826 - val_accuracy: 0.8126\n",
            "Epoch 70/100\n",
            "356/356 [==============================] - 6s 17ms/step - loss: 0.2397 - accuracy: 0.9106 - val_loss: 0.6682 - val_accuracy: 0.8157\n",
            "Epoch 71/100\n",
            "356/356 [==============================] - 4s 12ms/step - loss: 0.2154 - accuracy: 0.9206 - val_loss: 0.8107 - val_accuracy: 0.8142\n",
            "Epoch 72/100\n",
            "356/356 [==============================] - 5s 15ms/step - loss: 0.2057 - accuracy: 0.9249 - val_loss: 0.7694 - val_accuracy: 0.8202\n",
            "Epoch 73/100\n",
            "356/356 [==============================] - 4s 12ms/step - loss: 0.2047 - accuracy: 0.9235 - val_loss: 0.7524 - val_accuracy: 0.8200\n",
            "Epoch 74/100\n",
            "356/356 [==============================] - 4s 12ms/step - loss: 0.2170 - accuracy: 0.9232 - val_loss: 0.6632 - val_accuracy: 0.8193\n",
            "Epoch 75/100\n",
            "356/356 [==============================] - 5s 15ms/step - loss: 0.1992 - accuracy: 0.9294 - val_loss: 0.8292 - val_accuracy: 0.8228\n",
            "Epoch 76/100\n",
            "356/356 [==============================] - 5s 15ms/step - loss: 0.1896 - accuracy: 0.9316 - val_loss: 0.8507 - val_accuracy: 0.8150\n",
            "Epoch 77/100\n",
            "356/356 [==============================] - 5s 15ms/step - loss: 0.1772 - accuracy: 0.9344 - val_loss: 0.8388 - val_accuracy: 0.8120\n",
            "Epoch 78/100\n",
            "356/356 [==============================] - 6s 17ms/step - loss: 0.1915 - accuracy: 0.9312 - val_loss: 0.7417 - val_accuracy: 0.8178\n",
            "Epoch 79/100\n",
            "356/356 [==============================] - 4s 12ms/step - loss: 0.1857 - accuracy: 0.9346 - val_loss: 0.7832 - val_accuracy: 0.8195\n",
            "Epoch 80/100\n",
            "356/356 [==============================] - 5s 15ms/step - loss: 0.1805 - accuracy: 0.9371 - val_loss: 0.8256 - val_accuracy: 0.8130\n",
            "Epoch 81/100\n",
            "356/356 [==============================] - 4s 12ms/step - loss: 0.1635 - accuracy: 0.9417 - val_loss: 0.7757 - val_accuracy: 0.8149\n",
            "Epoch 82/100\n",
            "356/356 [==============================] - 5s 15ms/step - loss: 0.1543 - accuracy: 0.9456 - val_loss: 0.9443 - val_accuracy: 0.8201\n",
            "Epoch 83/100\n",
            "356/356 [==============================] - 5s 15ms/step - loss: 0.1617 - accuracy: 0.9432 - val_loss: 0.6964 - val_accuracy: 0.8150\n",
            "Epoch 84/100\n",
            "356/356 [==============================] - 5s 15ms/step - loss: 0.1552 - accuracy: 0.9462 - val_loss: 0.8404 - val_accuracy: 0.8115\n",
            "Epoch 85/100\n",
            "356/356 [==============================] - 5s 15ms/step - loss: 0.1507 - accuracy: 0.9490 - val_loss: 0.9871 - val_accuracy: 0.8196\n",
            "Epoch 86/100\n",
            "356/356 [==============================] - 4s 12ms/step - loss: 0.1681 - accuracy: 0.9461 - val_loss: 0.8599 - val_accuracy: 0.8197\n",
            "Epoch 87/100\n",
            "356/356 [==============================] - 4s 12ms/step - loss: 0.1528 - accuracy: 0.9472 - val_loss: 0.8238 - val_accuracy: 0.8167\n",
            "Epoch 88/100\n",
            "356/356 [==============================] - 5s 14ms/step - loss: 0.1536 - accuracy: 0.9488 - val_loss: 1.0331 - val_accuracy: 0.8168\n",
            "Epoch 89/100\n",
            "356/356 [==============================] - 5s 13ms/step - loss: 0.1367 - accuracy: 0.9555 - val_loss: 0.8575 - val_accuracy: 0.8194\n",
            "Epoch 90/100\n",
            "356/356 [==============================] - 5s 15ms/step - loss: 0.1485 - accuracy: 0.9505 - val_loss: 0.8295 - val_accuracy: 0.8126\n",
            "Epoch 91/100\n",
            "356/356 [==============================] - 6s 18ms/step - loss: 0.1446 - accuracy: 0.9526 - val_loss: 0.8573 - val_accuracy: 0.8149\n",
            "Epoch 92/100\n",
            "356/356 [==============================] - 4s 12ms/step - loss: 0.1302 - accuracy: 0.9575 - val_loss: 1.0078 - val_accuracy: 0.8209\n",
            "Epoch 93/100\n",
            "356/356 [==============================] - 5s 15ms/step - loss: 0.1231 - accuracy: 0.9585 - val_loss: 0.9704 - val_accuracy: 0.8153\n",
            "Epoch 94/100\n",
            "356/356 [==============================] - 5s 14ms/step - loss: 0.1201 - accuracy: 0.9598 - val_loss: 1.0337 - val_accuracy: 0.8183\n",
            "Epoch 95/100\n",
            "356/356 [==============================] - 5s 15ms/step - loss: 0.1172 - accuracy: 0.9615 - val_loss: 0.9746 - val_accuracy: 0.8111\n",
            "Epoch 96/100\n",
            "356/356 [==============================] - 5s 15ms/step - loss: 0.1093 - accuracy: 0.9641 - val_loss: 0.9816 - val_accuracy: 0.8079\n",
            "Epoch 97/100\n",
            "356/356 [==============================] - 6s 15ms/step - loss: 0.1562 - accuracy: 0.9535 - val_loss: 0.9365 - val_accuracy: 0.8157\n",
            "Epoch 98/100\n",
            "356/356 [==============================] - 4s 12ms/step - loss: 0.1310 - accuracy: 0.9596 - val_loss: 0.9475 - val_accuracy: 0.8150\n",
            "Epoch 99/100\n",
            "356/356 [==============================] - 5s 15ms/step - loss: 0.1147 - accuracy: 0.9649 - val_loss: 1.0439 - val_accuracy: 0.8179\n",
            "Epoch 100/100\n",
            "356/356 [==============================] - 4s 12ms/step - loss: 0.1065 - accuracy: 0.9654 - val_loss: 1.1482 - val_accuracy: 0.8162\n"
          ]
        },
        {
          "output_type": "execute_result",
          "data": {
            "text/plain": [
              "<matplotlib.legend.Legend at 0x7872556a38b0>"
            ]
          },
          "metadata": {},
          "execution_count": 55
        },
        {
          "output_type": "display_data",
          "data": {
            "text/plain": [
              "<Figure size 640x480 with 1 Axes>"
            ],
            "image/png": "[encoded data removed]"
          },
          "metadata": {}
        }
      ]
    },
    {
      "cell_type": "code",
      "source": [
        "model.evaluate(testX, testY)"
      ],
      "metadata": {
        "colab": {
          "base_uri": "https://localhost:8080/"
        },
        "outputId": "eb484e28-ce84-4a2d-ca1e-8c33830eadbf",
        "id": "RqwK3SggnB8j"
      },
      "execution_count": null,
      "outputs": [
        {
          "output_type": "stream",
          "name": "stdout",
          "text": [
            "356/356 [==============================] - 2s 6ms/step - loss: 1.1482 - accuracy: 0.8162\n"
          ]
        },
        {
          "output_type": "execute_result",
          "data": {
            "text/plain": [
              "[1.1481748819351196, 0.8161848783493042]"
            ]
          },
          "metadata": {},
          "execution_count": 56
        }
      ]
    },
    {
      "cell_type": "markdown",
      "source": [
        "This might have helped with overfitting, but it's hard to tell since we haven't converged. Let's add more epochs while also adding early stopping."
      ],
      "metadata": {
        "id": "mN72Z9gamufa"
      }
    },
    {
      "cell_type": "markdown",
      "source": [
        "### Early Stopping & 100 Epochs"
      ],
      "metadata": {
        "id": "sliiPAr4U8LT"
      }
    },
    {
      "cell_type": "code",
      "source": [
        "model = Sequential()\n",
        "\n",
        "model.add(Input(shape=(1,), dtype = 'string'))\n",
        "\n",
        "# add layer to the model\n",
        "model.add(vectorizeLayer)\n",
        "\n",
        "# add an embedding layer to turn integers into fixed-length vectors\n",
        "model.add(Embedding(maxTokens + 1, 128))\n",
        "\n",
        "# add a fully-connected recurrent layer\n",
        "model.add(LSTM(64))\n",
        "model.add(Dropout(0.5))\n",
        "\n",
        "# add a dense layer\n",
        "model.add(Dense(64, activation = 'relu'))\n",
        "model.add(Dropout(0.5))\n",
        "\n",
        "# add softmax classifier\n",
        "num_classes = len(encoder.classes_)\n",
        "model.add(Dense(num_classes, activation='softmax'))"
      ],
      "metadata": {
        "id": "5sH1H7-4U8Lh"
      },
      "execution_count": null,
      "outputs": []
    },
    {
      "cell_type": "code",
      "source": [
        "model.compile(optimizer='adam', loss='sparse_categorical_crossentropy', metrics=['accuracy'])\n",
        "model.summary()"
      ],
      "metadata": {
        "colab": {
          "base_uri": "https://localhost:8080/"
        },
        "outputId": "773d4da3-964a-4920-bf5c-1f5322296a15",
        "id": "jnzcSb0MU8Li"
      },
      "execution_count": null,
      "outputs": [
        {
          "output_type": "stream",
          "name": "stdout",
          "text": [
            "Model: \"sequential_10\"\n",
            "_________________________________________________________________\n",
            " Layer (type)                Output Shape              Param #   \n",
            "=================================================================\n",
            " text_vectorization (TextVe  (None, 100)               0         \n",
            " ctorization)                                                    \n",
            "                                                                 \n",
            " embedding_10 (Embedding)    (None, 100, 128)          128128    \n",
            "                                                                 \n",
            " lstm_10 (LSTM)              (None, 64)                49408     \n",
            "                                                                 \n",
            " dropout_17 (Dropout)        (None, 64)                0         \n",
            "                                                                 \n",
            " dense_20 (Dense)            (None, 64)                4160      \n",
            "                                                                 \n",
            " dropout_18 (Dropout)        (None, 64)                0         \n",
            "                                                                 \n",
            " dense_21 (Dense)            (None, 10)                650       \n",
            "                                                                 \n",
            "=================================================================\n",
            "Total params: 182346 (712.29 KB)\n",
            "Trainable params: 182346 (712.29 KB)\n",
            "Non-trainable params: 0 (0.00 Byte)\n",
            "_________________________________________________________________\n"
          ]
        }
      ]
    },
    {
      "cell_type": "code",
      "source": [
        "import matplotlib.pyplot as plt\n",
        "from tensorflow.keras.callbacks import EarlyStopping\n",
        "\n",
        "epochs = 100\n",
        "\n",
        "early_stopping = EarlyStopping(monitor='val_loss', patience=20, restore_best_weights=True)\n",
        "H = model.fit(trainX, trainY, validation_data=(testX, testY), epochs=epochs, callbacks=[early_stopping])\n",
        "\n",
        "\n",
        "plt.style.use('ggplot')\n",
        "plt.figure()\n",
        "plt.plot(np.arange(0, len(H.history['loss'])), H.history['loss'], label = 'train_loss')\n",
        "plt.plot(np.arange(0, len(H.history['val_loss'])), H.history['val_loss'], label = 'val_loss')\n",
        "plt.plot(np.arange(0, len(H.history['accuracy'])), H.history['accuracy'], label = 'train_acc')\n",
        "plt.plot(np.arange(0, len(H.history['val_accuracy'])), H.history['val_accuracy'], label = 'val_acc')\n",
        "\n",
        "# add labels and legend\n",
        "plt.title('Training Loss and Accuracy')\n",
        "plt.xlabel('Epoch #')\n",
        "plt.ylabel('Loss/Accuracy')\n",
        "plt.legend()"
      ],
      "metadata": {
        "colab": {
          "base_uri": "https://localhost:8080/",
          "height": 1000
        },
        "outputId": "0ea88167-a14e-4f59-adf0-052b0146b337",
        "id": "843iPAReU8Lj"
      },
      "execution_count": null,
      "outputs": [
        {
          "output_type": "stream",
          "name": "stdout",
          "text": [
            "Epoch 1/100\n",
            "356/356 [==============================] - 155s 39ms/step - loss: 1.5852 - accuracy: 0.5385 - val_loss: 1.4519 - val_accuracy: 0.5408\n",
            "Epoch 2/100\n",
            "356/356 [==============================] - 6s 17ms/step - loss: 1.4663 - accuracy: 0.5472 - val_loss: 1.4332 - val_accuracy: 0.5410\n",
            "Epoch 3/100\n",
            "356/356 [==============================] - 5s 15ms/step - loss: 1.4576 - accuracy: 0.5472 - val_loss: 1.4120 - val_accuracy: 0.5411\n",
            "Epoch 4/100\n",
            "356/356 [==============================] - 4s 12ms/step - loss: 1.4485 - accuracy: 0.5465 - val_loss: 1.4360 - val_accuracy: 0.5408\n",
            "Epoch 5/100\n",
            "356/356 [==============================] - 6s 16ms/step - loss: 1.4439 - accuracy: 0.5475 - val_loss: 1.4325 - val_accuracy: 0.5408\n",
            "Epoch 6/100\n",
            "356/356 [==============================] - 5s 14ms/step - loss: 1.4223 - accuracy: 0.5488 - val_loss: 1.3608 - val_accuracy: 0.5625\n",
            "Epoch 7/100\n",
            "356/356 [==============================] - 6s 17ms/step - loss: 1.3832 - accuracy: 0.5658 - val_loss: 1.3564 - val_accuracy: 0.5725\n",
            "Epoch 8/100\n",
            "356/356 [==============================] - 5s 14ms/step - loss: 1.3963 - accuracy: 0.5657 - val_loss: 1.4340 - val_accuracy: 0.5408\n",
            "Epoch 9/100\n",
            "356/356 [==============================] - 4s 12ms/step - loss: 1.4349 - accuracy: 0.5475 - val_loss: 1.4345 - val_accuracy: 0.5408\n",
            "Epoch 10/100\n",
            "356/356 [==============================] - 6s 16ms/step - loss: 1.4352 - accuracy: 0.5475 - val_loss: 1.4344 - val_accuracy: 0.5408\n",
            "Epoch 11/100\n",
            "356/356 [==============================] - 4s 12ms/step - loss: 1.4326 - accuracy: 0.5475 - val_loss: 1.4337 - val_accuracy: 0.5408\n",
            "Epoch 12/100\n",
            "356/356 [==============================] - 4s 12ms/step - loss: 1.4309 - accuracy: 0.5475 - val_loss: 1.4332 - val_accuracy: 0.5408\n",
            "Epoch 13/100\n",
            "356/356 [==============================] - 5s 15ms/step - loss: 1.3869 - accuracy: 0.5676 - val_loss: 1.3526 - val_accuracy: 0.5782\n",
            "Epoch 14/100\n",
            "356/356 [==============================] - 4s 12ms/step - loss: 1.3472 - accuracy: 0.5837 - val_loss: 1.3490 - val_accuracy: 0.5782\n",
            "Epoch 15/100\n",
            "356/356 [==============================] - 4s 12ms/step - loss: 1.3465 - accuracy: 0.5844 - val_loss: 1.3468 - val_accuracy: 0.5785\n",
            "Epoch 16/100\n",
            "356/356 [==============================] - 5s 15ms/step - loss: 1.3571 - accuracy: 0.5826 - val_loss: 1.4429 - val_accuracy: 0.5408\n",
            "Epoch 17/100\n",
            "356/356 [==============================] - 4s 12ms/step - loss: 1.4301 - accuracy: 0.5475 - val_loss: 1.3971 - val_accuracy: 0.5408\n",
            "Epoch 18/100\n",
            "356/356 [==============================] - 4s 11ms/step - loss: 1.3573 - accuracy: 0.5468 - val_loss: 1.3338 - val_accuracy: 0.5408\n",
            "Epoch 19/100\n",
            "356/356 [==============================] - 6s 17ms/step - loss: 1.3092 - accuracy: 0.5502 - val_loss: 1.2463 - val_accuracy: 0.5408\n",
            "Epoch 20/100\n",
            "356/356 [==============================] - 4s 12ms/step - loss: 1.2364 - accuracy: 0.5788 - val_loss: 1.1718 - val_accuracy: 0.6111\n",
            "Epoch 21/100\n",
            "356/356 [==============================] - 5s 15ms/step - loss: 1.1225 - accuracy: 0.6082 - val_loss: 1.0716 - val_accuracy: 0.6049\n",
            "Epoch 22/100\n",
            "356/356 [==============================] - 5s 14ms/step - loss: 1.0391 - accuracy: 0.6065 - val_loss: 0.9803 - val_accuracy: 0.6322\n",
            "Epoch 23/100\n",
            "356/356 [==============================] - 4s 12ms/step - loss: 0.9699 - accuracy: 0.6245 - val_loss: 0.9536 - val_accuracy: 0.6161\n",
            "Epoch 24/100\n",
            "356/356 [==============================] - 5s 13ms/step - loss: 0.9366 - accuracy: 0.6280 - val_loss: 0.9378 - val_accuracy: 0.6195\n",
            "Epoch 25/100\n",
            "356/356 [==============================] - 5s 13ms/step - loss: 0.9096 - accuracy: 0.6280 - val_loss: 0.9388 - val_accuracy: 0.6156\n",
            "Epoch 26/100\n",
            "356/356 [==============================] - 5s 15ms/step - loss: 0.8884 - accuracy: 0.6352 - val_loss: 0.9259 - val_accuracy: 0.6419\n",
            "Epoch 27/100\n",
            "356/356 [==============================] - 5s 15ms/step - loss: 0.8666 - accuracy: 0.6411 - val_loss: 0.8941 - val_accuracy: 0.6476\n",
            "Epoch 28/100\n",
            "356/356 [==============================] - 4s 12ms/step - loss: 0.8479 - accuracy: 0.6486 - val_loss: 0.8731 - val_accuracy: 0.6477\n",
            "Epoch 29/100\n",
            "356/356 [==============================] - 5s 15ms/step - loss: 0.8532 - accuracy: 0.6402 - val_loss: 0.8572 - val_accuracy: 0.6516\n",
            "Epoch 30/100\n",
            "356/356 [==============================] - 6s 18ms/step - loss: 0.7978 - accuracy: 0.6534 - val_loss: 0.8132 - val_accuracy: 0.6649\n",
            "Epoch 31/100\n",
            "356/356 [==============================] - 4s 12ms/step - loss: 0.7364 - accuracy: 0.6906 - val_loss: 0.7791 - val_accuracy: 0.6942\n",
            "Epoch 32/100\n",
            "356/356 [==============================] - 5s 13ms/step - loss: 0.6946 - accuracy: 0.7046 - val_loss: 0.7635 - val_accuracy: 0.6970\n",
            "Epoch 33/100\n",
            "356/356 [==============================] - 5s 13ms/step - loss: 0.6736 - accuracy: 0.7111 - val_loss: 0.7502 - val_accuracy: 0.6973\n",
            "Epoch 34/100\n",
            "356/356 [==============================] - 5s 15ms/step - loss: 0.6490 - accuracy: 0.7206 - val_loss: 0.7678 - val_accuracy: 0.7013\n",
            "Epoch 35/100\n",
            "356/356 [==============================] - 6s 16ms/step - loss: 0.6371 - accuracy: 0.7276 - val_loss: 0.7353 - val_accuracy: 0.7038\n",
            "Epoch 36/100\n",
            "356/356 [==============================] - 4s 12ms/step - loss: 0.6174 - accuracy: 0.7298 - val_loss: 0.7378 - val_accuracy: 0.7093\n",
            "Epoch 37/100\n",
            "356/356 [==============================] - 5s 15ms/step - loss: 0.6008 - accuracy: 0.7377 - val_loss: 0.7198 - val_accuracy: 0.7084\n",
            "Epoch 38/100\n",
            "356/356 [==============================] - 5s 15ms/step - loss: 0.5837 - accuracy: 0.7421 - val_loss: 0.7119 - val_accuracy: 0.7249\n",
            "Epoch 39/100\n",
            "356/356 [==============================] - 4s 12ms/step - loss: 0.5641 - accuracy: 0.7469 - val_loss: 0.7004 - val_accuracy: 0.7158\n",
            "Epoch 40/100\n",
            "356/356 [==============================] - 5s 15ms/step - loss: 0.5607 - accuracy: 0.7516 - val_loss: 0.7075 - val_accuracy: 0.7266\n",
            "Epoch 41/100\n",
            "356/356 [==============================] - 5s 13ms/step - loss: 0.5533 - accuracy: 0.7610 - val_loss: 0.7023 - val_accuracy: 0.7365\n",
            "Epoch 42/100\n",
            "356/356 [==============================] - 5s 15ms/step - loss: 0.5327 - accuracy: 0.7603 - val_loss: 0.6898 - val_accuracy: 0.7322\n",
            "Epoch 43/100\n",
            "356/356 [==============================] - 6s 16ms/step - loss: 0.5131 - accuracy: 0.7713 - val_loss: 0.6900 - val_accuracy: 0.7348\n",
            "Epoch 44/100\n",
            "356/356 [==============================] - 4s 12ms/step - loss: 0.5144 - accuracy: 0.7711 - val_loss: 0.7432 - val_accuracy: 0.7424\n",
            "Epoch 45/100\n",
            "356/356 [==============================] - 4s 12ms/step - loss: 0.4904 - accuracy: 0.7748 - val_loss: 0.6682 - val_accuracy: 0.7456\n",
            "Epoch 46/100\n",
            "356/356 [==============================] - 5s 15ms/step - loss: 0.4820 - accuracy: 0.7811 - val_loss: 0.6588 - val_accuracy: 0.7488\n",
            "Epoch 47/100\n",
            "356/356 [==============================] - 5s 15ms/step - loss: 0.4655 - accuracy: 0.7874 - val_loss: 0.7493 - val_accuracy: 0.7500\n",
            "Epoch 48/100\n",
            "356/356 [==============================] - 5s 15ms/step - loss: 0.4651 - accuracy: 0.7831 - val_loss: 0.6440 - val_accuracy: 0.7455\n",
            "Epoch 49/100\n",
            "356/356 [==============================] - 6s 16ms/step - loss: 0.4458 - accuracy: 0.7931 - val_loss: 0.6821 - val_accuracy: 0.7518\n",
            "Epoch 50/100\n",
            "356/356 [==============================] - 4s 12ms/step - loss: 0.4629 - accuracy: 0.7820 - val_loss: 0.6220 - val_accuracy: 0.7551\n",
            "Epoch 51/100\n",
            "356/356 [==============================] - 6s 17ms/step - loss: 0.4286 - accuracy: 0.7910 - val_loss: 0.6361 - val_accuracy: 0.7392\n",
            "Epoch 52/100\n",
            "356/356 [==============================] - 4s 12ms/step - loss: 0.4151 - accuracy: 0.8008 - val_loss: 0.6256 - val_accuracy: 0.7566\n",
            "Epoch 53/100\n",
            "356/356 [==============================] - 4s 12ms/step - loss: 0.4199 - accuracy: 0.7969 - val_loss: 0.6587 - val_accuracy: 0.7554\n",
            "Epoch 54/100\n",
            "356/356 [==============================] - 5s 15ms/step - loss: 0.3966 - accuracy: 0.7969 - val_loss: 0.6742 - val_accuracy: 0.7603\n",
            "Epoch 55/100\n",
            "356/356 [==============================] - 4s 12ms/step - loss: 0.3883 - accuracy: 0.8048 - val_loss: 0.6795 - val_accuracy: 0.7576\n",
            "Epoch 56/100\n",
            "356/356 [==============================] - 5s 15ms/step - loss: 0.3848 - accuracy: 0.8036 - val_loss: 0.7384 - val_accuracy: 0.7259\n",
            "Epoch 57/100\n",
            "356/356 [==============================] - 5s 14ms/step - loss: 0.3906 - accuracy: 0.8046 - val_loss: 0.6755 - val_accuracy: 0.7443\n",
            "Epoch 58/100\n",
            "356/356 [==============================] - 5s 15ms/step - loss: 0.3815 - accuracy: 0.8053 - val_loss: 0.6086 - val_accuracy: 0.7592\n",
            "Epoch 59/100\n",
            "356/356 [==============================] - 5s 14ms/step - loss: 0.3753 - accuracy: 0.8103 - val_loss: 0.6611 - val_accuracy: 0.7661\n",
            "Epoch 60/100\n",
            "356/356 [==============================] - 6s 16ms/step - loss: 0.3654 - accuracy: 0.8182 - val_loss: 0.7189 - val_accuracy: 0.7493\n",
            "Epoch 61/100\n",
            "356/356 [==============================] - 4s 11ms/step - loss: 0.3692 - accuracy: 0.8132 - val_loss: 0.6731 - val_accuracy: 0.7635\n",
            "Epoch 62/100\n",
            "356/356 [==============================] - 6s 17ms/step - loss: 0.3708 - accuracy: 0.8143 - val_loss: 0.7483 - val_accuracy: 0.7644\n",
            "Epoch 63/100\n",
            "356/356 [==============================] - 5s 15ms/step - loss: 0.3582 - accuracy: 0.8155 - val_loss: 0.6868 - val_accuracy: 0.7561\n",
            "Epoch 64/100\n",
            "356/356 [==============================] - 4s 12ms/step - loss: 0.3684 - accuracy: 0.8146 - val_loss: 0.7071 - val_accuracy: 0.7379\n",
            "Epoch 65/100\n",
            "356/356 [==============================] - 5s 14ms/step - loss: 0.4113 - accuracy: 0.8056 - val_loss: 0.6754 - val_accuracy: 0.7562\n",
            "Epoch 66/100\n",
            "356/356 [==============================] - 5s 15ms/step - loss: 0.3773 - accuracy: 0.8146 - val_loss: 0.7051 - val_accuracy: 0.7546\n",
            "Epoch 67/100\n",
            "356/356 [==============================] - 6s 16ms/step - loss: 0.3448 - accuracy: 0.8222 - val_loss: 0.7269 - val_accuracy: 0.7532\n",
            "Epoch 68/100\n",
            "356/356 [==============================] - 4s 12ms/step - loss: 0.3469 - accuracy: 0.8280 - val_loss: 0.7288 - val_accuracy: 0.7650\n",
            "Epoch 69/100\n",
            "356/356 [==============================] - 4s 11ms/step - loss: 0.3447 - accuracy: 0.8244 - val_loss: 0.7122 - val_accuracy: 0.7462\n",
            "Epoch 70/100\n",
            "356/356 [==============================] - 6s 16ms/step - loss: 0.3461 - accuracy: 0.8267 - val_loss: 0.7784 - val_accuracy: 0.7666\n",
            "Epoch 71/100\n",
            "356/356 [==============================] - 4s 12ms/step - loss: 0.3305 - accuracy: 0.8302 - val_loss: 0.8023 - val_accuracy: 0.7641\n",
            "Epoch 72/100\n",
            "356/356 [==============================] - 4s 11ms/step - loss: 0.3377 - accuracy: 0.8305 - val_loss: 0.7775 - val_accuracy: 0.7621\n",
            "Epoch 73/100\n",
            "356/356 [==============================] - 5s 15ms/step - loss: 0.3389 - accuracy: 0.8312 - val_loss: 0.6913 - val_accuracy: 0.7558\n",
            "Epoch 74/100\n",
            "356/356 [==============================] - 4s 12ms/step - loss: 0.3391 - accuracy: 0.8340 - val_loss: 0.6954 - val_accuracy: 0.7445\n",
            "Epoch 75/100\n",
            "356/356 [==============================] - 5s 15ms/step - loss: 0.3226 - accuracy: 0.8357 - val_loss: 0.7812 - val_accuracy: 0.7587\n",
            "Epoch 76/100\n",
            "356/356 [==============================] - 5s 15ms/step - loss: 0.3334 - accuracy: 0.8260 - val_loss: 0.7931 - val_accuracy: 0.7654\n",
            "Epoch 77/100\n",
            "356/356 [==============================] - 5s 15ms/step - loss: 0.3164 - accuracy: 0.8354 - val_loss: 0.7719 - val_accuracy: 0.7560\n",
            "Epoch 78/100\n",
            "356/356 [==============================] - 5s 15ms/step - loss: 0.3203 - accuracy: 0.8337 - val_loss: 0.7158 - val_accuracy: 0.7447\n"
          ]
        },
        {
          "output_type": "execute_result",
          "data": {
            "text/plain": [
              "<matplotlib.legend.Legend at 0x7872546dff70>"
            ]
          },
          "metadata": {},
          "execution_count": 65
        },
        {
          "output_type": "display_data",
          "data": {
            "text/plain": [
              "<Figure size 640x480 with 1 Axes>"
            ],
            "image/png": "[encoded data removed]"
          },
          "metadata": {}
        }
      ]
    },
    {
      "cell_type": "code",
      "source": [
        "model.evaluate(testX, testY)"
      ],
      "metadata": {
        "colab": {
          "base_uri": "https://localhost:8080/"
        },
        "id": "MAtzSxJMU8Lk",
        "outputId": "8b55fa22-8514-40bb-d69e-a38d9e2a8b60"
      },
      "execution_count": null,
      "outputs": [
        {
          "output_type": "stream",
          "name": "stdout",
          "text": [
            "356/356 [==============================] - 3s 7ms/step - loss: 0.6086 - accuracy: 0.7592\n"
          ]
        },
        {
          "output_type": "execute_result",
          "data": {
            "text/plain": [
              "[0.6086465716362, 0.759247899055481]"
            ]
          },
          "metadata": {},
          "execution_count": 66
        }
      ]
    },
    {
      "cell_type": "markdown",
      "source": [
        "### Regularization"
      ],
      "metadata": {
        "id": "V1oQ4jxztxUZ"
      }
    },
    {
      "cell_type": "code",
      "source": [
        "from tensorflow.keras import regularizers\n",
        "\n",
        "model = Sequential()\n",
        "\n",
        "model.add(Input(shape=(1,), dtype = 'string'))\n",
        "\n",
        "# add layer to the model\n",
        "model.add(vectorizeLayer)\n",
        "\n",
        "# add an embedding layer to turn integers into fixed-length vectors\n",
        "model.add(Embedding(maxTokens + 1, 128))\n",
        "\n",
        "# add a fully-connected recurrent layer\n",
        "model.add(LSTM(64))\n",
        "model.add(Dropout(0.5))\n",
        "\n",
        "# add a dense layer\n",
        "model.add(Dense(64, activation = 'relu', kernel_regularizer=regularizers.l2(0.01)))\n",
        "model.add(Dropout(0.5))\n",
        "\n",
        "# add softmax classifier\n",
        "num_classes = len(encoder.classes_)\n",
        "model.add(Dense(num_classes, activation='softmax'))"
      ],
      "metadata": {
        "id": "tvEElM2Nt2jx"
      },
      "execution_count": null,
      "outputs": []
    },
    {
      "cell_type": "code",
      "source": [
        "model.compile(optimizer='adam', loss='sparse_categorical_crossentropy', metrics=['accuracy'])\n",
        "model.summary()"
      ],
      "metadata": {
        "colab": {
          "base_uri": "https://localhost:8080/"
        },
        "id": "-AWIHsoCt4k2",
        "outputId": "b532d30c-87a3-4140-8877-447cf9d37b26"
      },
      "execution_count": null,
      "outputs": [
        {
          "output_type": "stream",
          "name": "stdout",
          "text": [
            "Model: \"sequential_13\"\n",
            "_________________________________________________________________\n",
            " Layer (type)                Output Shape              Param #   \n",
            "=================================================================\n",
            " text_vectorization (TextVe  (None, 100)               0         \n",
            " ctorization)                                                    \n",
            "                                                                 \n",
            " embedding_13 (Embedding)    (None, 100, 128)          128128    \n",
            "                                                                 \n",
            " lstm_13 (LSTM)              (None, 64)                49408     \n",
            "                                                                 \n",
            " dropout_21 (Dropout)        (None, 64)                0         \n",
            "                                                                 \n",
            " dense_24 (Dense)            (None, 64)                4160      \n",
            "                                                                 \n",
            " dropout_22 (Dropout)        (None, 64)                0         \n",
            "                                                                 \n",
            " dense_25 (Dense)            (None, 10)                650       \n",
            "                                                                 \n",
            "=================================================================\n",
            "Total params: 182346 (712.29 KB)\n",
            "Trainable params: 182346 (712.29 KB)\n",
            "Non-trainable params: 0 (0.00 Byte)\n",
            "_________________________________________________________________\n"
          ]
        }
      ]
    },
    {
      "cell_type": "code",
      "source": [
        "import matplotlib.pyplot as plt\n",
        "from tensorflow.keras.callbacks import EarlyStopping\n",
        "\n",
        "epochs = 100\n",
        "\n",
        "#H = model.fit(trainX, trainY, validation_data = (testX, testY), epochs = epochs)\n",
        "early_stopping = EarlyStopping(monitor='val_loss', patience=20, restore_best_weights=True)\n",
        "H = model.fit(trainX, trainY, validation_data=(testX, testY), epochs=epochs, callbacks=[early_stopping])\n",
        "\n",
        "\n",
        "plt.style.use('ggplot')\n",
        "plt.figure()\n",
        "plt.plot(np.arange(0, len(H.history['loss'])), H.history['loss'], label = 'train_loss')\n",
        "plt.plot(np.arange(0, len(H.history['val_loss'])), H.history['val_loss'], label = 'val_loss')\n",
        "plt.plot(np.arange(0, len(H.history['accuracy'])), H.history['accuracy'], label = 'train_acc')\n",
        "plt.plot(np.arange(0, len(H.history['val_accuracy'])), H.history['val_accuracy'], label = 'val_acc')\n",
        "\n",
        "# add labels and legend\n",
        "plt.title('Training Loss and Accuracy')\n",
        "plt.xlabel('Epoch #')\n",
        "plt.ylabel('Loss/Accuracy')\n",
        "plt.legend()"
      ],
      "metadata": {
        "colab": {
          "base_uri": "https://localhost:8080/",
          "height": 1000
        },
        "id": "-8lHRanUt6f3",
        "outputId": "ddda0be9-8897-446d-f5d6-96168522f0c0"
      },
      "execution_count": null,
      "outputs": [
        {
          "output_type": "stream",
          "name": "stdout",
          "text": [
            "Epoch 1/100\n",
            "356/356 [==============================] - 15s 35ms/step - loss: 1.7995 - accuracy: 0.5334 - val_loss: 1.5166 - val_accuracy: 0.5408\n",
            "Epoch 2/100\n",
            "356/356 [==============================] - 6s 18ms/step - loss: 1.5601 - accuracy: 0.5430 - val_loss: 1.4706 - val_accuracy: 0.5408\n",
            "Epoch 3/100\n",
            "356/356 [==============================] - 6s 17ms/step - loss: 1.4738 - accuracy: 0.5475 - val_loss: 1.4510 - val_accuracy: 0.5408\n",
            "Epoch 4/100\n",
            "356/356 [==============================] - 4s 12ms/step - loss: 1.4576 - accuracy: 0.5475 - val_loss: 1.4434 - val_accuracy: 0.5408\n",
            "Epoch 5/100\n",
            "356/356 [==============================] - 5s 15ms/step - loss: 1.4473 - accuracy: 0.5475 - val_loss: 1.4447 - val_accuracy: 0.5408\n",
            "Epoch 6/100\n",
            "356/356 [==============================] - 4s 11ms/step - loss: 1.4424 - accuracy: 0.5475 - val_loss: 1.4380 - val_accuracy: 0.5408\n",
            "Epoch 7/100\n",
            "356/356 [==============================] - 5s 14ms/step - loss: 1.4412 - accuracy: 0.5475 - val_loss: 1.4372 - val_accuracy: 0.5408\n",
            "Epoch 8/100\n",
            "356/356 [==============================] - 5s 13ms/step - loss: 1.4361 - accuracy: 0.5475 - val_loss: 1.4364 - val_accuracy: 0.5408\n",
            "Epoch 9/100\n",
            "356/356 [==============================] - 4s 12ms/step - loss: 1.4359 - accuracy: 0.5475 - val_loss: 1.4330 - val_accuracy: 0.5408\n",
            "Epoch 10/100\n",
            "356/356 [==============================] - 4s 13ms/step - loss: 1.4306 - accuracy: 0.5475 - val_loss: 1.4256 - val_accuracy: 0.5408\n",
            "Epoch 11/100\n",
            "356/356 [==============================] - 5s 14ms/step - loss: 1.3410 - accuracy: 0.5491 - val_loss: 1.2412 - val_accuracy: 0.5882\n",
            "Epoch 12/100\n",
            "356/356 [==============================] - 4s 12ms/step - loss: 1.2135 - accuracy: 0.5629 - val_loss: 1.1550 - val_accuracy: 0.5882\n",
            "Epoch 13/100\n",
            "356/356 [==============================] - 5s 15ms/step - loss: 1.1640 - accuracy: 0.6152 - val_loss: 1.1103 - val_accuracy: 0.6451\n",
            "Epoch 14/100\n",
            "356/356 [==============================] - 4s 12ms/step - loss: 1.1376 - accuracy: 0.6318 - val_loss: 1.1425 - val_accuracy: 0.6137\n",
            "Epoch 15/100\n",
            "356/356 [==============================] - 4s 12ms/step - loss: 1.1019 - accuracy: 0.6389 - val_loss: 1.0700 - val_accuracy: 0.6550\n",
            "Epoch 16/100\n",
            "356/356 [==============================] - 5s 13ms/step - loss: 1.0122 - accuracy: 0.6550 - val_loss: 0.9411 - val_accuracy: 0.6612\n",
            "Epoch 17/100\n",
            "356/356 [==============================] - 4s 12ms/step - loss: 0.9294 - accuracy: 0.6569 - val_loss: 0.8826 - val_accuracy: 0.6725\n",
            "Epoch 18/100\n",
            "356/356 [==============================] - 4s 11ms/step - loss: 0.8808 - accuracy: 0.6663 - val_loss: 0.8496 - val_accuracy: 0.6704\n",
            "Epoch 19/100\n",
            "356/356 [==============================] - 5s 13ms/step - loss: 0.8520 - accuracy: 0.6732 - val_loss: 0.8134 - val_accuracy: 0.6845\n",
            "Epoch 20/100\n",
            "356/356 [==============================] - 6s 16ms/step - loss: 0.8337 - accuracy: 0.6777 - val_loss: 0.8154 - val_accuracy: 0.6846\n",
            "Epoch 21/100\n",
            "356/356 [==============================] - 4s 12ms/step - loss: 0.7843 - accuracy: 0.6739 - val_loss: 0.7432 - val_accuracy: 0.6919\n",
            "Epoch 22/100\n",
            "356/356 [==============================] - 5s 15ms/step - loss: 0.7273 - accuracy: 0.6975 - val_loss: 0.7189 - val_accuracy: 0.6933\n",
            "Epoch 23/100\n",
            "356/356 [==============================] - 4s 12ms/step - loss: 0.6872 - accuracy: 0.7015 - val_loss: 0.6950 - val_accuracy: 0.6966\n",
            "Epoch 24/100\n",
            "356/356 [==============================] - 4s 11ms/step - loss: 0.6543 - accuracy: 0.7041 - val_loss: 0.6717 - val_accuracy: 0.7016\n",
            "Epoch 25/100\n",
            "356/356 [==============================] - 6s 16ms/step - loss: 0.6413 - accuracy: 0.7145 - val_loss: 0.6713 - val_accuracy: 0.6844\n",
            "Epoch 26/100\n",
            "356/356 [==============================] - 4s 12ms/step - loss: 0.6006 - accuracy: 0.7272 - val_loss: 0.6394 - val_accuracy: 0.7330\n",
            "Epoch 27/100\n",
            "356/356 [==============================] - 5s 15ms/step - loss: 0.5668 - accuracy: 0.7429 - val_loss: 0.6694 - val_accuracy: 0.7294\n",
            "Epoch 28/100\n",
            "356/356 [==============================] - 6s 18ms/step - loss: 0.5542 - accuracy: 0.7461 - val_loss: 0.6345 - val_accuracy: 0.7284\n",
            "Epoch 29/100\n",
            "356/356 [==============================] - 4s 12ms/step - loss: 0.5252 - accuracy: 0.7568 - val_loss: 0.6201 - val_accuracy: 0.7523\n",
            "Epoch 30/100\n",
            "356/356 [==============================] - 5s 14ms/step - loss: 0.5165 - accuracy: 0.7606 - val_loss: 0.6133 - val_accuracy: 0.7541\n",
            "Epoch 31/100\n",
            "356/356 [==============================] - 4s 13ms/step - loss: 0.5096 - accuracy: 0.7700 - val_loss: 0.5972 - val_accuracy: 0.7678\n",
            "Epoch 32/100\n",
            "356/356 [==============================] - 4s 11ms/step - loss: 0.4918 - accuracy: 0.7792 - val_loss: 0.6158 - val_accuracy: 0.7694\n",
            "Epoch 33/100\n",
            "356/356 [==============================] - 5s 15ms/step - loss: 0.4733 - accuracy: 0.7853 - val_loss: 0.6319 - val_accuracy: 0.7581\n",
            "Epoch 34/100\n",
            "356/356 [==============================] - 5s 15ms/step - loss: 0.4831 - accuracy: 0.7804 - val_loss: 0.6135 - val_accuracy: 0.7729\n",
            "Epoch 35/100\n",
            "356/356 [==============================] - 4s 11ms/step - loss: 0.4475 - accuracy: 0.7980 - val_loss: 0.5801 - val_accuracy: 0.7730\n",
            "Epoch 36/100\n",
            "356/356 [==============================] - 5s 14ms/step - loss: 0.4396 - accuracy: 0.7986 - val_loss: 0.6143 - val_accuracy: 0.7770\n",
            "Epoch 37/100\n",
            "356/356 [==============================] - 5s 15ms/step - loss: 0.4378 - accuracy: 0.8050 - val_loss: 0.5942 - val_accuracy: 0.7663\n",
            "Epoch 38/100\n",
            "356/356 [==============================] - 4s 11ms/step - loss: 0.4259 - accuracy: 0.8017 - val_loss: 0.6479 - val_accuracy: 0.7797\n",
            "Epoch 39/100\n",
            "356/356 [==============================] - 5s 15ms/step - loss: 0.4265 - accuracy: 0.8068 - val_loss: 0.6024 - val_accuracy: 0.7636\n",
            "Epoch 40/100\n",
            "356/356 [==============================] - 4s 12ms/step - loss: 0.4125 - accuracy: 0.8101 - val_loss: 0.6070 - val_accuracy: 0.7725\n",
            "Epoch 41/100\n",
            "356/356 [==============================] - 4s 11ms/step - loss: 0.3975 - accuracy: 0.8168 - val_loss: 0.6275 - val_accuracy: 0.7858\n",
            "Epoch 42/100\n",
            "356/356 [==============================] - 5s 14ms/step - loss: 0.4044 - accuracy: 0.8120 - val_loss: 0.6081 - val_accuracy: 0.7730\n",
            "Epoch 43/100\n",
            "356/356 [==============================] - 5s 15ms/step - loss: 0.4338 - accuracy: 0.8073 - val_loss: 0.5971 - val_accuracy: 0.7841\n",
            "Epoch 44/100\n",
            "356/356 [==============================] - 5s 13ms/step - loss: 0.3881 - accuracy: 0.8230 - val_loss: 0.5783 - val_accuracy: 0.7818\n",
            "Epoch 45/100\n",
            "356/356 [==============================] - 5s 13ms/step - loss: 0.3860 - accuracy: 0.8193 - val_loss: 0.6027 - val_accuracy: 0.7802\n",
            "Epoch 46/100\n",
            "356/356 [==============================] - 4s 11ms/step - loss: 0.3796 - accuracy: 0.8266 - val_loss: 0.6127 - val_accuracy: 0.7650\n",
            "Epoch 47/100\n",
            "356/356 [==============================] - 4s 12ms/step - loss: 0.3711 - accuracy: 0.8249 - val_loss: 0.6164 - val_accuracy: 0.7693\n",
            "Epoch 48/100\n",
            "356/356 [==============================] - 6s 16ms/step - loss: 0.3661 - accuracy: 0.8282 - val_loss: 0.6347 - val_accuracy: 0.7815\n",
            "Epoch 49/100\n",
            "356/356 [==============================] - 4s 11ms/step - loss: 0.3719 - accuracy: 0.8288 - val_loss: 0.6027 - val_accuracy: 0.7805\n",
            "Epoch 50/100\n",
            "356/356 [==============================] - 4s 11ms/step - loss: 0.3822 - accuracy: 0.8243 - val_loss: 0.6820 - val_accuracy: 0.7835\n",
            "Epoch 51/100\n",
            "356/356 [==============================] - 5s 14ms/step - loss: 0.3709 - accuracy: 0.8312 - val_loss: 0.6511 - val_accuracy: 0.7772\n",
            "Epoch 52/100\n",
            "356/356 [==============================] - 4s 11ms/step - loss: 0.3710 - accuracy: 0.8301 - val_loss: 0.6165 - val_accuracy: 0.7862\n",
            "Epoch 53/100\n",
            "356/356 [==============================] - 4s 11ms/step - loss: 0.3580 - accuracy: 0.8323 - val_loss: 0.6185 - val_accuracy: 0.7791\n",
            "Epoch 54/100\n",
            "356/356 [==============================] - 5s 14ms/step - loss: 0.3451 - accuracy: 0.8331 - val_loss: 0.5989 - val_accuracy: 0.7716\n",
            "Epoch 55/100\n",
            "356/356 [==============================] - 4s 12ms/step - loss: 0.3418 - accuracy: 0.8359 - val_loss: 0.6651 - val_accuracy: 0.7809\n",
            "Epoch 56/100\n",
            "356/356 [==============================] - 4s 11ms/step - loss: 0.3380 - accuracy: 0.8404 - val_loss: 0.6265 - val_accuracy: 0.7765\n",
            "Epoch 57/100\n",
            "356/356 [==============================] - 5s 14ms/step - loss: 0.3340 - accuracy: 0.8404 - val_loss: 0.6298 - val_accuracy: 0.7668\n",
            "Epoch 58/100\n",
            "356/356 [==============================] - 4s 11ms/step - loss: 0.3298 - accuracy: 0.8409 - val_loss: 0.6440 - val_accuracy: 0.7757\n",
            "Epoch 59/100\n",
            "356/356 [==============================] - 5s 15ms/step - loss: 0.3274 - accuracy: 0.8438 - val_loss: 0.6983 - val_accuracy: 0.7839\n",
            "Epoch 60/100\n",
            "356/356 [==============================] - 5s 15ms/step - loss: 0.3343 - accuracy: 0.8391 - val_loss: 0.6873 - val_accuracy: 0.7808\n",
            "Epoch 61/100\n",
            "356/356 [==============================] - 5s 15ms/step - loss: 0.3153 - accuracy: 0.8398 - val_loss: 0.7157 - val_accuracy: 0.7816\n",
            "Epoch 62/100\n",
            "356/356 [==============================] - 4s 12ms/step - loss: 0.3283 - accuracy: 0.8454 - val_loss: 0.6481 - val_accuracy: 0.7828\n",
            "Epoch 63/100\n",
            "356/356 [==============================] - 5s 14ms/step - loss: 0.3117 - accuracy: 0.8507 - val_loss: 0.7083 - val_accuracy: 0.7816\n",
            "Epoch 64/100\n",
            "356/356 [==============================] - 4s 11ms/step - loss: 0.3142 - accuracy: 0.8418 - val_loss: 0.6595 - val_accuracy: 0.7781\n"
          ]
        },
        {
          "output_type": "execute_result",
          "data": {
            "text/plain": [
              "<matplotlib.legend.Legend at 0x78722c442170>"
            ]
          },
          "metadata": {},
          "execution_count": 73
        },
        {
          "output_type": "display_data",
          "data": {
            "text/plain": [
              "<Figure size 640x480 with 1 Axes>"
            ],
            "image/png": "[encoded data removed]"
          },
          "metadata": {}
        }
      ]
    },
    {
      "cell_type": "code",
      "source": [
        "model.evaluate(testX, testY)"
      ],
      "metadata": {
        "colab": {
          "base_uri": "https://localhost:8080/"
        },
        "id": "i1T_YH1et8RX",
        "outputId": "e9776af1-6254-4d8a-fa59-aaff97fd2a6d"
      },
      "execution_count": null,
      "outputs": [
        {
          "output_type": "stream",
          "name": "stdout",
          "text": [
            "356/356 [==============================] - 2s 5ms/step - loss: 0.5783 - accuracy: 0.7818\n"
          ]
        },
        {
          "output_type": "execute_result",
          "data": {
            "text/plain": [
              "[0.5783419013023376, 0.7818293571472168]"
            ]
          },
          "metadata": {},
          "execution_count": 74
        }
      ]
    },
    {
      "cell_type": "markdown",
      "source": [
        "## 4. Conclusions"
      ],
      "metadata": {
        "id": "4r5WyQB1XJgU"
      }
    },
    {
      "cell_type": "markdown",
      "source": [
        "Improvements:\n",
        "One of the major flaws is the fact that we simplified our data to have unique lables. For example an artifact creature was simply labeled as a creature. Further work could be done to add multiple labels to each card, which could then be encoded with binary labeling and compiled with categorical crossentropy loss function."
      ],
      "metadata": {
        "id": "D7Ks_FovXQlH"
      }
    }
  ]
}